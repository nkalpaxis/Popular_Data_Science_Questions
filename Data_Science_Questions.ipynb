{
 "cells": [
  {
   "cell_type": "markdown",
   "metadata": {
    "collapsed": true
   },
   "source": [
    "# Popular Data Science Questions\n",
    "\n",
    "In this project, we're going to explore the Data Science Stack Exchange (DSSE) and answer popular data science questions that may arise on the job. The Data Science Stack Exchange is part of Stack Exchange which is a network of question-and-answer websites on topics in diverse fields. All the websites in the network are modeled after the initial site which is very popular among the programming community; Stack Overflow.\n",
    "\n",
    "We're tasked with finding out \"what is the best kind of content to write about\". To answer this question, we're going to use the Data Science Stack Exchange's database which is a provided public data base from Stack Exchange. The following columns from the database will be useful for our analysis;\n",
    "\n",
    "- Id: identification number for a post\n",
    "- PostTypeId: identification number for the type of post\n",
    "- Score: a posts score\n",
    "- ViewCount: how many times a post has been viewed\n",
    "- Tags: topics that the post is related to\n",
    "- AnswerCount: how many times a post/question was answered\n",
    "- FavoriteCount: how many times a post/question was favored\n",
    "- CreationDate: date and time a post was created"
   ]
  },
  {
   "cell_type": "markdown",
   "metadata": {},
   "source": [
    "# Import pandas, matplotlib, and seaborn"
   ]
  },
  {
   "cell_type": "code",
   "execution_count": 200,
   "metadata": {
    "collapsed": false
   },
   "outputs": [],
   "source": [
    "import pandas as pd\n",
    "import matplotlib.pyplot as plt\n",
    "import seaborn as sns\n",
    "\n",
    "%matplotlib inline"
   ]
  },
  {
   "cell_type": "markdown",
   "metadata": {},
   "source": [
    "# Read csv into DataFrame"
   ]
  },
  {
   "cell_type": "code",
   "execution_count": 201,
   "metadata": {
    "collapsed": true
   },
   "outputs": [],
   "source": [
    "file = pd.read_csv('2019_questions.csv', parse_dates=['CreationDate'])"
   ]
  },
  {
   "cell_type": "markdown",
   "metadata": {},
   "source": [
    "# Explore the dataset"
   ]
  },
  {
   "cell_type": "code",
   "execution_count": 202,
   "metadata": {
    "collapsed": false
   },
   "outputs": [
    {
     "data": {
      "text/plain": [
       "Index(['Id', 'CreationDate', 'Score', 'ViewCount', 'Tags', 'AnswerCount',\n",
       "       'FavoriteCount'],\n",
       "      dtype='object')"
      ]
     },
     "execution_count": 202,
     "metadata": {},
     "output_type": "execute_result"
    }
   ],
   "source": [
    "# view all columns in dataset\n",
    "file.columns"
   ]
  },
  {
   "cell_type": "code",
   "execution_count": 203,
   "metadata": {
    "collapsed": false
   },
   "outputs": [
    {
     "name": "stdout",
     "output_type": "stream",
     "text": [
      "<class 'pandas.core.frame.DataFrame'>\n",
      "RangeIndex: 8839 entries, 0 to 8838\n",
      "Data columns (total 7 columns):\n",
      "Id               8839 non-null int64\n",
      "CreationDate     8839 non-null datetime64[ns]\n",
      "Score            8839 non-null int64\n",
      "ViewCount        8839 non-null int64\n",
      "Tags             8839 non-null object\n",
      "AnswerCount      8839 non-null int64\n",
      "FavoriteCount    1407 non-null float64\n",
      "dtypes: datetime64[ns](1), float64(1), int64(4), object(1)\n",
      "memory usage: 483.5+ KB\n"
     ]
    }
   ],
   "source": [
    "file.info()"
   ]
  },
  {
   "cell_type": "code",
   "execution_count": 204,
   "metadata": {
    "collapsed": false
   },
   "outputs": [
    {
     "data": {
      "text/plain": [
       "Id                  0\n",
       "CreationDate        0\n",
       "Score               0\n",
       "ViewCount           0\n",
       "Tags                0\n",
       "AnswerCount         0\n",
       "FavoriteCount    7432\n",
       "dtype: int64"
      ]
     },
     "execution_count": 204,
     "metadata": {},
     "output_type": "execute_result"
    }
   ],
   "source": [
    "file.isnull().sum()"
   ]
  },
  {
   "cell_type": "markdown",
   "metadata": {},
   "source": [
    "Above we can see that there is 7,432 null values in the FavoriteCount column. We will fill all the missing values in the FavoriteCount column with 0 as well as convert the entire row to integers."
   ]
  },
  {
   "cell_type": "markdown",
   "metadata": {},
   "source": [
    "# Fill missing values and convert columns"
   ]
  },
  {
   "cell_type": "code",
   "execution_count": 205,
   "metadata": {
    "collapsed": true
   },
   "outputs": [],
   "source": [
    "# fill NaN values in FavoriteCount column\n",
    "file.fillna(value={'FavoriteCount': 0}, inplace=True)\n",
    "# convert FavoriteCount to type int\n",
    "file['FavoriteCount'] = file['FavoriteCount'].astype(int)"
   ]
  },
  {
   "cell_type": "code",
   "execution_count": 206,
   "metadata": {
    "collapsed": false
   },
   "outputs": [
    {
     "data": {
      "text/plain": [
       "Id                        int64\n",
       "CreationDate     datetime64[ns]\n",
       "Score                     int64\n",
       "ViewCount                 int64\n",
       "Tags                     object\n",
       "AnswerCount               int64\n",
       "FavoriteCount             int64\n",
       "dtype: object"
      ]
     },
     "execution_count": 206,
     "metadata": {},
     "output_type": "execute_result"
    }
   ],
   "source": [
    "file.dtypes"
   ]
  },
  {
   "cell_type": "markdown",
   "metadata": {},
   "source": [
    "# Tags column"
   ]
  },
  {
   "cell_type": "markdown",
   "metadata": {},
   "source": [
    "There is a post on DSSE about how to correctly tag a question, the link to the post is ;\n",
    "\n",
    "https://meta.stackexchange.com/questions/18878/how-do-i-correctly-tag-my-questions/18879#18879\n",
    "\n",
    "Within the very detailed answer, we find out that;\n",
    "\n",
    "\"You are limited to five tags, and you are generally better off trying to use as many of them as you can, provided they follow the guidelines here.\"\n",
    "\n",
    "Because of the limitation, we'll create 5 columns in the dataset labeled; tag1,tag2,tag3,tag4, and tag5 which will make the tags easier to work with. The tags are also seperated by < tag > so we'll pass a regular expression into str.replace which will clean this up by replacing them with an empty string."
   ]
  },
  {
   "cell_type": "code",
   "execution_count": 207,
   "metadata": {
    "collapsed": false
   },
   "outputs": [
    {
     "data": {
      "text/plain": [
       "0                      <machine-learning><data-mining>\n",
       "1    <machine-learning><regression><linear-regressi...\n",
       "2         <python><time-series><forecast><forecasting>\n",
       "Name: Tags, dtype: object"
      ]
     },
     "execution_count": 207,
     "metadata": {},
     "output_type": "execute_result"
    }
   ],
   "source": [
    "file['Tags'].head(3)"
   ]
  },
  {
   "cell_type": "code",
   "execution_count": 208,
   "metadata": {
    "collapsed": false
   },
   "outputs": [],
   "source": [
    "file[\"Tags\"] = file[\"Tags\"].str.replace(\"^<|>$\", \"\").str.split(\"><\")"
   ]
  },
  {
   "cell_type": "code",
   "execution_count": 209,
   "metadata": {
    "collapsed": false
   },
   "outputs": [
    {
     "data": {
      "text/html": [
       "<div>\n",
       "<style scoped>\n",
       "    .dataframe tbody tr th:only-of-type {\n",
       "        vertical-align: middle;\n",
       "    }\n",
       "\n",
       "    .dataframe tbody tr th {\n",
       "        vertical-align: top;\n",
       "    }\n",
       "\n",
       "    .dataframe thead th {\n",
       "        text-align: right;\n",
       "    }\n",
       "</style>\n",
       "<table border=\"1\" class=\"dataframe\">\n",
       "  <thead>\n",
       "    <tr style=\"text-align: right;\">\n",
       "      <th></th>\n",
       "      <th>Id</th>\n",
       "      <th>CreationDate</th>\n",
       "      <th>Score</th>\n",
       "      <th>ViewCount</th>\n",
       "      <th>Tags</th>\n",
       "      <th>AnswerCount</th>\n",
       "      <th>FavoriteCount</th>\n",
       "    </tr>\n",
       "  </thead>\n",
       "  <tbody>\n",
       "    <tr>\n",
       "      <th>3987</th>\n",
       "      <td>61170</td>\n",
       "      <td>2019-10-03 01:56:22</td>\n",
       "      <td>0</td>\n",
       "      <td>16</td>\n",
       "      <td>[scikit-learn, data-cleaning, xgboost]</td>\n",
       "      <td>0</td>\n",
       "      <td>0</td>\n",
       "    </tr>\n",
       "    <tr>\n",
       "      <th>6326</th>\n",
       "      <td>53096</td>\n",
       "      <td>2019-06-02 18:18:01</td>\n",
       "      <td>0</td>\n",
       "      <td>34</td>\n",
       "      <td>[decision-trees, reinforcement-learning, optim...</td>\n",
       "      <td>0</td>\n",
       "      <td>0</td>\n",
       "    </tr>\n",
       "    <tr>\n",
       "      <th>2231</th>\n",
       "      <td>46424</td>\n",
       "      <td>2019-02-28 21:13:59</td>\n",
       "      <td>0</td>\n",
       "      <td>32</td>\n",
       "      <td>[time-series, predictive-modeling, random-fore...</td>\n",
       "      <td>0</td>\n",
       "      <td>0</td>\n",
       "    </tr>\n",
       "  </tbody>\n",
       "</table>\n",
       "</div>"
      ],
      "text/plain": [
       "         Id        CreationDate  Score  ViewCount  \\\n",
       "3987  61170 2019-10-03 01:56:22      0         16   \n",
       "6326  53096 2019-06-02 18:18:01      0         34   \n",
       "2231  46424 2019-02-28 21:13:59      0         32   \n",
       "\n",
       "                                                   Tags  AnswerCount  \\\n",
       "3987             [scikit-learn, data-cleaning, xgboost]            0   \n",
       "6326  [decision-trees, reinforcement-learning, optim...            0   \n",
       "2231  [time-series, predictive-modeling, random-fore...            0   \n",
       "\n",
       "      FavoriteCount  \n",
       "3987              0  \n",
       "6326              0  \n",
       "2231              0  "
      ]
     },
     "execution_count": 209,
     "metadata": {},
     "output_type": "execute_result"
    }
   ],
   "source": [
    "file.sample(3)"
   ]
  },
  {
   "cell_type": "markdown",
   "metadata": {},
   "source": [
    "# Exploring counts for Tags"
   ]
  },
  {
   "cell_type": "code",
   "execution_count": 210,
   "metadata": {
    "collapsed": false
   },
   "outputs": [],
   "source": [
    "# create a dictonary to count each tag\n",
    "tag_count = dict()\n",
    "\n",
    "for tags in file['Tags']:\n",
    "        for v in tags:\n",
    "            if v in tag_count:\n",
    "                tag_count[v] += 1\n",
    "            else:\n",
    "                tag_count[v] = 1"
   ]
  },
  {
   "cell_type": "markdown",
   "metadata": {},
   "source": [
    "To make things more visually appealing, we'll transform tag_count dictonary into a DataFrame."
   ]
  },
  {
   "cell_type": "code",
   "execution_count": 211,
   "metadata": {
    "collapsed": false
   },
   "outputs": [],
   "source": [
    "tag_count = pd.DataFrame.from_dict(tag_count, orient='index')\n",
    "tag_count.rename(columns={0: 'Count'}, inplace=True)"
   ]
  },
  {
   "cell_type": "code",
   "execution_count": 212,
   "metadata": {
    "collapsed": false
   },
   "outputs": [
    {
     "data": {
      "text/html": [
       "<div>\n",
       "<style scoped>\n",
       "    .dataframe tbody tr th:only-of-type {\n",
       "        vertical-align: middle;\n",
       "    }\n",
       "\n",
       "    .dataframe tbody tr th {\n",
       "        vertical-align: top;\n",
       "    }\n",
       "\n",
       "    .dataframe thead th {\n",
       "        text-align: right;\n",
       "    }\n",
       "</style>\n",
       "<table border=\"1\" class=\"dataframe\">\n",
       "  <thead>\n",
       "    <tr style=\"text-align: right;\">\n",
       "      <th></th>\n",
       "      <th>Count</th>\n",
       "    </tr>\n",
       "  </thead>\n",
       "  <tbody>\n",
       "    <tr>\n",
       "      <th>yolo</th>\n",
       "      <td>21</td>\n",
       "    </tr>\n",
       "    <tr>\n",
       "      <th>matrix-factorisation</th>\n",
       "      <td>24</td>\n",
       "    </tr>\n",
       "    <tr>\n",
       "      <th>tools</th>\n",
       "      <td>8</td>\n",
       "    </tr>\n",
       "    <tr>\n",
       "      <th>cnn</th>\n",
       "      <td>489</td>\n",
       "    </tr>\n",
       "    <tr>\n",
       "      <th>auc</th>\n",
       "      <td>3</td>\n",
       "    </tr>\n",
       "    <tr>\n",
       "      <th>automatic-summarization</th>\n",
       "      <td>10</td>\n",
       "    </tr>\n",
       "    <tr>\n",
       "      <th>bayesian-nonparametric</th>\n",
       "      <td>2</td>\n",
       "    </tr>\n",
       "    <tr>\n",
       "      <th>dataframe</th>\n",
       "      <td>81</td>\n",
       "    </tr>\n",
       "    <tr>\n",
       "      <th>audio-recognition</th>\n",
       "      <td>25</td>\n",
       "    </tr>\n",
       "    <tr>\n",
       "      <th>image-segmentation</th>\n",
       "      <td>3</td>\n",
       "    </tr>\n",
       "  </tbody>\n",
       "</table>\n",
       "</div>"
      ],
      "text/plain": [
       "                         Count\n",
       "yolo                        21\n",
       "matrix-factorisation        24\n",
       "tools                        8\n",
       "cnn                        489\n",
       "auc                          3\n",
       "automatic-summarization     10\n",
       "bayesian-nonparametric       2\n",
       "dataframe                   81\n",
       "audio-recognition           25\n",
       "image-segmentation           3"
      ]
     },
     "execution_count": 212,
     "metadata": {},
     "output_type": "execute_result"
    }
   ],
   "source": [
    "tag_count.head(10)"
   ]
  },
  {
   "cell_type": "code",
   "execution_count": 213,
   "metadata": {
    "collapsed": true
   },
   "outputs": [],
   "source": [
    "# lets sort the DataFrame by Count using .tail(20) to display the top 20 used tags\n",
    "most_used = tag_count.sort_values(by='Count').tail(20)"
   ]
  },
  {
   "cell_type": "code",
   "execution_count": 214,
   "metadata": {
    "collapsed": false
   },
   "outputs": [
    {
     "data": {
      "text/html": [
       "<div>\n",
       "<style scoped>\n",
       "    .dataframe tbody tr th:only-of-type {\n",
       "        vertical-align: middle;\n",
       "    }\n",
       "\n",
       "    .dataframe tbody tr th {\n",
       "        vertical-align: top;\n",
       "    }\n",
       "\n",
       "    .dataframe thead th {\n",
       "        text-align: right;\n",
       "    }\n",
       "</style>\n",
       "<table border=\"1\" class=\"dataframe\">\n",
       "  <thead>\n",
       "    <tr style=\"text-align: right;\">\n",
       "      <th></th>\n",
       "      <th>Count</th>\n",
       "    </tr>\n",
       "  </thead>\n",
       "  <tbody>\n",
       "    <tr>\n",
       "      <th>machine-learning-model</th>\n",
       "      <td>224</td>\n",
       "    </tr>\n",
       "    <tr>\n",
       "      <th>statistics</th>\n",
       "      <td>234</td>\n",
       "    </tr>\n",
       "    <tr>\n",
       "      <th>clustering</th>\n",
       "      <td>257</td>\n",
       "    </tr>\n",
       "    <tr>\n",
       "      <th>predictive-modeling</th>\n",
       "      <td>265</td>\n",
       "    </tr>\n",
       "    <tr>\n",
       "      <th>r</th>\n",
       "      <td>268</td>\n",
       "    </tr>\n",
       "    <tr>\n",
       "      <th>dataset</th>\n",
       "      <td>340</td>\n",
       "    </tr>\n",
       "    <tr>\n",
       "      <th>regression</th>\n",
       "      <td>347</td>\n",
       "    </tr>\n",
       "    <tr>\n",
       "      <th>pandas</th>\n",
       "      <td>354</td>\n",
       "    </tr>\n",
       "    <tr>\n",
       "      <th>lstm</th>\n",
       "      <td>402</td>\n",
       "    </tr>\n",
       "    <tr>\n",
       "      <th>time-series</th>\n",
       "      <td>466</td>\n",
       "    </tr>\n",
       "    <tr>\n",
       "      <th>cnn</th>\n",
       "      <td>489</td>\n",
       "    </tr>\n",
       "    <tr>\n",
       "      <th>nlp</th>\n",
       "      <td>493</td>\n",
       "    </tr>\n",
       "    <tr>\n",
       "      <th>scikit-learn</th>\n",
       "      <td>540</td>\n",
       "    </tr>\n",
       "    <tr>\n",
       "      <th>tensorflow</th>\n",
       "      <td>584</td>\n",
       "    </tr>\n",
       "    <tr>\n",
       "      <th>classification</th>\n",
       "      <td>685</td>\n",
       "    </tr>\n",
       "    <tr>\n",
       "      <th>keras</th>\n",
       "      <td>935</td>\n",
       "    </tr>\n",
       "    <tr>\n",
       "      <th>neural-network</th>\n",
       "      <td>1055</td>\n",
       "    </tr>\n",
       "    <tr>\n",
       "      <th>deep-learning</th>\n",
       "      <td>1220</td>\n",
       "    </tr>\n",
       "    <tr>\n",
       "      <th>python</th>\n",
       "      <td>1814</td>\n",
       "    </tr>\n",
       "    <tr>\n",
       "      <th>machine-learning</th>\n",
       "      <td>2693</td>\n",
       "    </tr>\n",
       "  </tbody>\n",
       "</table>\n",
       "</div>"
      ],
      "text/plain": [
       "                        Count\n",
       "machine-learning-model    224\n",
       "statistics                234\n",
       "clustering                257\n",
       "predictive-modeling       265\n",
       "r                         268\n",
       "dataset                   340\n",
       "regression                347\n",
       "pandas                    354\n",
       "lstm                      402\n",
       "time-series               466\n",
       "cnn                       489\n",
       "nlp                       493\n",
       "scikit-learn              540\n",
       "tensorflow                584\n",
       "classification            685\n",
       "keras                     935\n",
       "neural-network           1055\n",
       "deep-learning            1220\n",
       "python                   1814\n",
       "machine-learning         2693"
      ]
     },
     "execution_count": 214,
     "metadata": {},
     "output_type": "execute_result"
    }
   ],
   "source": [
    "most_used"
   ]
  },
  {
   "cell_type": "markdown",
   "metadata": {},
   "source": [
    "# Visualizing Most Used"
   ]
  },
  {
   "cell_type": "code",
   "execution_count": 215,
   "metadata": {
    "collapsed": false
   },
   "outputs": [
    {
     "data": {
      "text/plain": [
       "<matplotlib.axes._subplots.AxesSubplot at 0x7fbf38a52128>"
      ]
     },
     "execution_count": 215,
     "metadata": {},
     "output_type": "execute_result"
    },
    {
     "data": {
      "image/png": "[encoded data removed]",
      "text/plain": [
       "<matplotlib.figure.Figure at 0x7fbf38a63278>"
      ]
     },
     "metadata": {},
     "output_type": "display_data"
    }
   ],
   "source": [
    "most_used.plot(kind='barh', figsize=(16,8))"
   ]
  },
  {
   "cell_type": "markdown",
   "metadata": {
    "collapsed": true
   },
   "source": [
    "The horizontal bar graph above shows us the most used tag is machine-learning and by a large margin. The second and third most used tags are python and deep-learning. A lot of these tags are also very broad, but before we dive deeper into most used lets do the same for most viewed."
   ]
  },
  {
   "cell_type": "markdown",
   "metadata": {},
   "source": [
    "# Exploring views for Tags"
   ]
  },
  {
   "cell_type": "code",
   "execution_count": 217,
   "metadata": {
    "collapsed": true
   },
   "outputs": [],
   "source": [
    "# create a dictonary for tag view counts\n",
    "tag_view_count = dict()\n",
    "\n",
    "for index, row in file.iterrows():\n",
    "    for tag in row['Tags']:\n",
    "        if tag in tag_view_count:\n",
    "            tag_view_count[tag] + row['ViewCount']\n",
    "        else:\n",
    "            tag_view_count[tag] = row['ViewCount']"
   ]
  },
  {
   "cell_type": "code",
   "execution_count": 218,
   "metadata": {
    "collapsed": true
   },
   "outputs": [],
   "source": [
    "# convert dict to DataFrame and rename column\n",
    "tag_view_count = pd.DataFrame.from_dict(tag_view_count, orient='index')\n",
    "tag_view_count.rename(columns={0: 'ViewCount'}, inplace=True)"
   ]
  },
  {
   "cell_type": "code",
   "execution_count": 219,
   "metadata": {
    "collapsed": true
   },
   "outputs": [],
   "source": [
    "# create most_viewed sorted by top 20\n",
    "most_viewed = tag_view_count.sort_values(by='ViewCount').tail(20)"
   ]
  },
  {
   "cell_type": "markdown",
   "metadata": {},
   "source": [
    "# Visualizing most viewed"
   ]
  },
  {
   "cell_type": "code",
   "execution_count": 220,
   "metadata": {
    "collapsed": false
   },
   "outputs": [
    {
     "data": {
      "text/plain": [
       "<matplotlib.axes._subplots.AxesSubplot at 0x7fbf413e2588>"
      ]
     },
     "execution_count": 220,
     "metadata": {},
     "output_type": "execute_result"
    },
    {
     "data": {
      "image/png": "[encoded data removed]",
      "text/plain": [
       "<matplotlib.figure.Figure at 0x7fbf38f9f6d8>"
      ]
     },
     "metadata": {},
     "output_type": "display_data"
    }
   ],
   "source": [
    "most_viewed.plot(kind='barh', figsize=(16,8))"
   ]
  },
  {
   "cell_type": "markdown",
   "metadata": {},
   "source": [
    "# Most used and most viewed side-by-side"
   ]
  },
  {
   "cell_type": "code",
   "execution_count": 221,
   "metadata": {
    "collapsed": false
   },
   "outputs": [
    {
     "data": {
      "text/plain": [
       "array([<matplotlib.axes._subplots.AxesSubplot object at 0x7fbf37bb1d30>],\n",
       "      dtype=object)"
      ]
     },
     "execution_count": 221,
     "metadata": {},
     "output_type": "execute_result"
    },
    {
     "data": {
      "image/png": "[encoded data removed]",
      "text/plain": [
       "<matplotlib.figure.Figure at 0x7fbf38866668>"
      ]
     },
     "metadata": {},
     "output_type": "display_data"
    }
   ],
   "source": [
    "fig, axes = plt.subplots(nrows=1, ncols=2)\n",
    "fig.set_size_inches((24, 10))\n",
    "most_used.plot(kind=\"barh\", ax=axes[0], subplots=True)\n",
    "most_viewed.plot(kind=\"barh\", ax=axes[1], subplots=True)"
   ]
  },
  {
   "cell_type": "markdown",
   "metadata": {},
   "source": [
    "# Relations between Tags\n",
    "\n",
    "Next we're going to dig into the relationships between tags. First we're going to see which tags are in most_used but not in most_viewed by using pd.merge, and vice versa."
   ]
  },
  {
   "cell_type": "code",
   "execution_count": 224,
   "metadata": {
    "collapsed": false
   },
   "outputs": [
    {
     "data": {
      "text/html": [
       "<div>\n",
       "<style scoped>\n",
       "    .dataframe tbody tr th:only-of-type {\n",
       "        vertical-align: middle;\n",
       "    }\n",
       "\n",
       "    .dataframe tbody tr th {\n",
       "        vertical-align: top;\n",
       "    }\n",
       "\n",
       "    .dataframe thead th {\n",
       "        text-align: right;\n",
       "    }\n",
       "</style>\n",
       "<table border=\"1\" class=\"dataframe\">\n",
       "  <thead>\n",
       "    <tr style=\"text-align: right;\">\n",
       "      <th></th>\n",
       "      <th>Count</th>\n",
       "      <th>ViewCount</th>\n",
       "    </tr>\n",
       "  </thead>\n",
       "  <tbody>\n",
       "    <tr>\n",
       "      <th>machine-learning-model</th>\n",
       "      <td>224</td>\n",
       "      <td>NaN</td>\n",
       "    </tr>\n",
       "    <tr>\n",
       "      <th>statistics</th>\n",
       "      <td>234</td>\n",
       "      <td>NaN</td>\n",
       "    </tr>\n",
       "    <tr>\n",
       "      <th>clustering</th>\n",
       "      <td>257</td>\n",
       "      <td>NaN</td>\n",
       "    </tr>\n",
       "    <tr>\n",
       "      <th>predictive-modeling</th>\n",
       "      <td>265</td>\n",
       "      <td>NaN</td>\n",
       "    </tr>\n",
       "    <tr>\n",
       "      <th>r</th>\n",
       "      <td>268</td>\n",
       "      <td>NaN</td>\n",
       "    </tr>\n",
       "    <tr>\n",
       "      <th>dataset</th>\n",
       "      <td>340</td>\n",
       "      <td>NaN</td>\n",
       "    </tr>\n",
       "    <tr>\n",
       "      <th>regression</th>\n",
       "      <td>347</td>\n",
       "      <td>NaN</td>\n",
       "    </tr>\n",
       "    <tr>\n",
       "      <th>pandas</th>\n",
       "      <td>354</td>\n",
       "      <td>1212.0</td>\n",
       "    </tr>\n",
       "    <tr>\n",
       "      <th>lstm</th>\n",
       "      <td>402</td>\n",
       "      <td>NaN</td>\n",
       "    </tr>\n",
       "    <tr>\n",
       "      <th>time-series</th>\n",
       "      <td>466</td>\n",
       "      <td>1651.0</td>\n",
       "    </tr>\n",
       "    <tr>\n",
       "      <th>cnn</th>\n",
       "      <td>489</td>\n",
       "      <td>NaN</td>\n",
       "    </tr>\n",
       "    <tr>\n",
       "      <th>nlp</th>\n",
       "      <td>493</td>\n",
       "      <td>NaN</td>\n",
       "    </tr>\n",
       "    <tr>\n",
       "      <th>scikit-learn</th>\n",
       "      <td>540</td>\n",
       "      <td>NaN</td>\n",
       "    </tr>\n",
       "    <tr>\n",
       "      <th>tensorflow</th>\n",
       "      <td>584</td>\n",
       "      <td>1810.0</td>\n",
       "    </tr>\n",
       "    <tr>\n",
       "      <th>classification</th>\n",
       "      <td>685</td>\n",
       "      <td>NaN</td>\n",
       "    </tr>\n",
       "    <tr>\n",
       "      <th>keras</th>\n",
       "      <td>935</td>\n",
       "      <td>NaN</td>\n",
       "    </tr>\n",
       "    <tr>\n",
       "      <th>neural-network</th>\n",
       "      <td>1055</td>\n",
       "      <td>NaN</td>\n",
       "    </tr>\n",
       "    <tr>\n",
       "      <th>deep-learning</th>\n",
       "      <td>1220</td>\n",
       "      <td>NaN</td>\n",
       "    </tr>\n",
       "    <tr>\n",
       "      <th>python</th>\n",
       "      <td>1814</td>\n",
       "      <td>1651.0</td>\n",
       "    </tr>\n",
       "    <tr>\n",
       "      <th>machine-learning</th>\n",
       "      <td>2693</td>\n",
       "      <td>NaN</td>\n",
       "    </tr>\n",
       "  </tbody>\n",
       "</table>\n",
       "</div>"
      ],
      "text/plain": [
       "                        Count  ViewCount\n",
       "machine-learning-model    224        NaN\n",
       "statistics                234        NaN\n",
       "clustering                257        NaN\n",
       "predictive-modeling       265        NaN\n",
       "r                         268        NaN\n",
       "dataset                   340        NaN\n",
       "regression                347        NaN\n",
       "pandas                    354     1212.0\n",
       "lstm                      402        NaN\n",
       "time-series               466     1651.0\n",
       "cnn                       489        NaN\n",
       "nlp                       493        NaN\n",
       "scikit-learn              540        NaN\n",
       "tensorflow                584     1810.0\n",
       "classification            685        NaN\n",
       "keras                     935        NaN\n",
       "neural-network           1055        NaN\n",
       "deep-learning            1220        NaN\n",
       "python                   1814     1651.0\n",
       "machine-learning         2693        NaN"
      ]
     },
     "execution_count": 224,
     "metadata": {},
     "output_type": "execute_result"
    }
   ],
   "source": [
    "pd.merge(most_used, most_viewed, how='left', left_index=True, right_index=True)"
   ]
  },
  {
   "cell_type": "code",
   "execution_count": 225,
   "metadata": {
    "collapsed": false
   },
   "outputs": [
    {
     "data": {
      "text/html": [
       "<div>\n",
       "<style scoped>\n",
       "    .dataframe tbody tr th:only-of-type {\n",
       "        vertical-align: middle;\n",
       "    }\n",
       "\n",
       "    .dataframe tbody tr th {\n",
       "        vertical-align: top;\n",
       "    }\n",
       "\n",
       "    .dataframe thead th {\n",
       "        text-align: right;\n",
       "    }\n",
       "</style>\n",
       "<table border=\"1\" class=\"dataframe\">\n",
       "  <thead>\n",
       "    <tr style=\"text-align: right;\">\n",
       "      <th></th>\n",
       "      <th>ViewCount</th>\n",
       "      <th>Count</th>\n",
       "    </tr>\n",
       "  </thead>\n",
       "  <tbody>\n",
       "    <tr>\n",
       "      <th>numpy</th>\n",
       "      <td>1212</td>\n",
       "      <td>NaN</td>\n",
       "    </tr>\n",
       "    <tr>\n",
       "      <th>pandas</th>\n",
       "      <td>1212</td>\n",
       "      <td>354.0</td>\n",
       "    </tr>\n",
       "    <tr>\n",
       "      <th>spacy</th>\n",
       "      <td>1219</td>\n",
       "      <td>NaN</td>\n",
       "    </tr>\n",
       "    <tr>\n",
       "      <th>k-means</th>\n",
       "      <td>1289</td>\n",
       "      <td>NaN</td>\n",
       "    </tr>\n",
       "    <tr>\n",
       "      <th>python</th>\n",
       "      <td>1651</td>\n",
       "      <td>1814.0</td>\n",
       "    </tr>\n",
       "    <tr>\n",
       "      <th>time-series</th>\n",
       "      <td>1651</td>\n",
       "      <td>466.0</td>\n",
       "    </tr>\n",
       "    <tr>\n",
       "      <th>forecasting</th>\n",
       "      <td>1651</td>\n",
       "      <td>NaN</td>\n",
       "    </tr>\n",
       "    <tr>\n",
       "      <th>forecast</th>\n",
       "      <td>1651</td>\n",
       "      <td>NaN</td>\n",
       "    </tr>\n",
       "    <tr>\n",
       "      <th>data-cleaning</th>\n",
       "      <td>1779</td>\n",
       "      <td>NaN</td>\n",
       "    </tr>\n",
       "    <tr>\n",
       "      <th>tensorflow</th>\n",
       "      <td>1810</td>\n",
       "      <td>584.0</td>\n",
       "    </tr>\n",
       "    <tr>\n",
       "      <th>gpu</th>\n",
       "      <td>1810</td>\n",
       "      <td>NaN</td>\n",
       "    </tr>\n",
       "    <tr>\n",
       "      <th>cost-function</th>\n",
       "      <td>2010</td>\n",
       "      <td>NaN</td>\n",
       "    </tr>\n",
       "    <tr>\n",
       "      <th>backpropagation</th>\n",
       "      <td>2010</td>\n",
       "      <td>NaN</td>\n",
       "    </tr>\n",
       "    <tr>\n",
       "      <th>classifier</th>\n",
       "      <td>3358</td>\n",
       "      <td>NaN</td>\n",
       "    </tr>\n",
       "    <tr>\n",
       "      <th>mlp</th>\n",
       "      <td>3358</td>\n",
       "      <td>NaN</td>\n",
       "    </tr>\n",
       "    <tr>\n",
       "      <th>methods</th>\n",
       "      <td>3636</td>\n",
       "      <td>NaN</td>\n",
       "    </tr>\n",
       "    <tr>\n",
       "      <th>historgram</th>\n",
       "      <td>4410</td>\n",
       "      <td>NaN</td>\n",
       "    </tr>\n",
       "    <tr>\n",
       "      <th>sequence-to-sequence</th>\n",
       "      <td>5672</td>\n",
       "      <td>NaN</td>\n",
       "    </tr>\n",
       "    <tr>\n",
       "      <th>recurrent-neural-net</th>\n",
       "      <td>5672</td>\n",
       "      <td>NaN</td>\n",
       "    </tr>\n",
       "    <tr>\n",
       "      <th>data.table</th>\n",
       "      <td>10597</td>\n",
       "      <td>NaN</td>\n",
       "    </tr>\n",
       "  </tbody>\n",
       "</table>\n",
       "</div>"
      ],
      "text/plain": [
       "                      ViewCount   Count\n",
       "numpy                      1212     NaN\n",
       "pandas                     1212   354.0\n",
       "spacy                      1219     NaN\n",
       "k-means                    1289     NaN\n",
       "python                     1651  1814.0\n",
       "time-series                1651   466.0\n",
       "forecasting                1651     NaN\n",
       "forecast                   1651     NaN\n",
       "data-cleaning              1779     NaN\n",
       "tensorflow                 1810   584.0\n",
       "gpu                        1810     NaN\n",
       "cost-function              2010     NaN\n",
       "backpropagation            2010     NaN\n",
       "classifier                 3358     NaN\n",
       "mlp                        3358     NaN\n",
       "methods                    3636     NaN\n",
       "historgram                 4410     NaN\n",
       "sequence-to-sequence       5672     NaN\n",
       "recurrent-neural-net       5672     NaN\n",
       "data.table                10597     NaN"
      ]
     },
     "execution_count": 225,
     "metadata": {},
     "output_type": "execute_result"
    }
   ],
   "source": [
    "pd.merge(most_viewed, most_used, how='left',left_index=True,right_index=True)"
   ]
  },
  {
   "cell_type": "markdown",
   "metadata": {},
   "source": [
    "The following tags are present IN most_used and NOT present in most_viewed;\n",
    "\n",
    "- machine-learning-model\n",
    "- statistics\n",
    "- predictive-modeling\n",
    "- r\n",
    "\n",
    "The following tags are present IN most_viewed and NOT present in most_used;\n",
    "\n",
    "- csv\n",
    "- pytorch\n",
    "- dataframe\n",
    "\n",
    "You may have noticed some tags are related like python with numpy, pandas, data-cleaning etc. One way we can see the relations between tags is finding out how many times tags are paired together in posts."
   ]
  },
  {
   "cell_type": "markdown",
   "metadata": {},
   "source": [
    "# Tag Pairs "
   ]
  },
  {
   "cell_type": "code",
   "execution_count": 226,
   "metadata": {
    "collapsed": true
   },
   "outputs": [],
   "source": [
    "all_tags = list(tag_count.index)"
   ]
  },
  {
   "cell_type": "code",
   "execution_count": 227,
   "metadata": {
    "collapsed": true
   },
   "outputs": [],
   "source": [
    "pairs = pd.DataFrame(index=all_tags, columns=all_tags)"
   ]
  },
  {
   "cell_type": "code",
   "execution_count": 240,
   "metadata": {
    "collapsed": false
   },
   "outputs": [
    {
     "data": {
      "text/html": [
       "<div>\n",
       "<style scoped>\n",
       "    .dataframe tbody tr th:only-of-type {\n",
       "        vertical-align: middle;\n",
       "    }\n",
       "\n",
       "    .dataframe tbody tr th {\n",
       "        vertical-align: top;\n",
       "    }\n",
       "\n",
       "    .dataframe thead th {\n",
       "        text-align: right;\n",
       "    }\n",
       "</style>\n",
       "<table border=\"1\" class=\"dataframe\">\n",
       "  <thead>\n",
       "    <tr style=\"text-align: right;\">\n",
       "      <th></th>\n",
       "      <th>yolo</th>\n",
       "      <th>matrix-factorisation</th>\n",
       "      <th>tools</th>\n",
       "      <th>cnn</th>\n",
       "      <th>auc</th>\n",
       "      <th>automatic-summarization</th>\n",
       "      <th>bayesian-nonparametric</th>\n",
       "      <th>dataframe</th>\n",
       "      <th>audio-recognition</th>\n",
       "      <th>image-segmentation</th>\n",
       "      <th>...</th>\n",
       "      <th>adaboost</th>\n",
       "      <th>probability</th>\n",
       "      <th>exploitation</th>\n",
       "      <th>cross-validation</th>\n",
       "      <th>dummy-variables</th>\n",
       "      <th>ensemble-modeling</th>\n",
       "      <th>transformer</th>\n",
       "      <th>tokenization</th>\n",
       "      <th>linear-regression</th>\n",
       "      <th>sequential-pattern-mining</th>\n",
       "    </tr>\n",
       "  </thead>\n",
       "  <tbody>\n",
       "    <tr>\n",
       "      <th>yolo</th>\n",
       "      <td>NaN</td>\n",
       "      <td>NaN</td>\n",
       "      <td>NaN</td>\n",
       "      <td>NaN</td>\n",
       "      <td>NaN</td>\n",
       "      <td>NaN</td>\n",
       "      <td>NaN</td>\n",
       "      <td>NaN</td>\n",
       "      <td>NaN</td>\n",
       "      <td>NaN</td>\n",
       "      <td>...</td>\n",
       "      <td>NaN</td>\n",
       "      <td>NaN</td>\n",
       "      <td>NaN</td>\n",
       "      <td>NaN</td>\n",
       "      <td>NaN</td>\n",
       "      <td>NaN</td>\n",
       "      <td>NaN</td>\n",
       "      <td>NaN</td>\n",
       "      <td>NaN</td>\n",
       "      <td>NaN</td>\n",
       "    </tr>\n",
       "    <tr>\n",
       "      <th>matrix-factorisation</th>\n",
       "      <td>NaN</td>\n",
       "      <td>NaN</td>\n",
       "      <td>NaN</td>\n",
       "      <td>NaN</td>\n",
       "      <td>NaN</td>\n",
       "      <td>NaN</td>\n",
       "      <td>NaN</td>\n",
       "      <td>NaN</td>\n",
       "      <td>NaN</td>\n",
       "      <td>NaN</td>\n",
       "      <td>...</td>\n",
       "      <td>NaN</td>\n",
       "      <td>NaN</td>\n",
       "      <td>NaN</td>\n",
       "      <td>NaN</td>\n",
       "      <td>NaN</td>\n",
       "      <td>NaN</td>\n",
       "      <td>NaN</td>\n",
       "      <td>NaN</td>\n",
       "      <td>NaN</td>\n",
       "      <td>NaN</td>\n",
       "    </tr>\n",
       "    <tr>\n",
       "      <th>tools</th>\n",
       "      <td>NaN</td>\n",
       "      <td>NaN</td>\n",
       "      <td>NaN</td>\n",
       "      <td>NaN</td>\n",
       "      <td>NaN</td>\n",
       "      <td>NaN</td>\n",
       "      <td>NaN</td>\n",
       "      <td>NaN</td>\n",
       "      <td>NaN</td>\n",
       "      <td>NaN</td>\n",
       "      <td>...</td>\n",
       "      <td>NaN</td>\n",
       "      <td>NaN</td>\n",
       "      <td>NaN</td>\n",
       "      <td>NaN</td>\n",
       "      <td>NaN</td>\n",
       "      <td>NaN</td>\n",
       "      <td>NaN</td>\n",
       "      <td>NaN</td>\n",
       "      <td>NaN</td>\n",
       "      <td>NaN</td>\n",
       "    </tr>\n",
       "  </tbody>\n",
       "</table>\n",
       "<p>3 rows × 526 columns</p>\n",
       "</div>"
      ],
      "text/plain": [
       "                     yolo matrix-factorisation tools  cnn  auc  \\\n",
       "yolo                  NaN                  NaN   NaN  NaN  NaN   \n",
       "matrix-factorisation  NaN                  NaN   NaN  NaN  NaN   \n",
       "tools                 NaN                  NaN   NaN  NaN  NaN   \n",
       "\n",
       "                     automatic-summarization bayesian-nonparametric dataframe  \\\n",
       "yolo                                     NaN                    NaN       NaN   \n",
       "matrix-factorisation                     NaN                    NaN       NaN   \n",
       "tools                                    NaN                    NaN       NaN   \n",
       "\n",
       "                     audio-recognition image-segmentation  \\\n",
       "yolo                               NaN                NaN   \n",
       "matrix-factorisation               NaN                NaN   \n",
       "tools                              NaN                NaN   \n",
       "\n",
       "                                ...            adaboost probability  \\\n",
       "yolo                            ...                 NaN         NaN   \n",
       "matrix-factorisation            ...                 NaN         NaN   \n",
       "tools                           ...                 NaN         NaN   \n",
       "\n",
       "                     exploitation cross-validation dummy-variables  \\\n",
       "yolo                          NaN              NaN             NaN   \n",
       "matrix-factorisation          NaN              NaN             NaN   \n",
       "tools                         NaN              NaN             NaN   \n",
       "\n",
       "                     ensemble-modeling transformer tokenization  \\\n",
       "yolo                               NaN         NaN          NaN   \n",
       "matrix-factorisation               NaN         NaN          NaN   \n",
       "tools                              NaN         NaN          NaN   \n",
       "\n",
       "                     linear-regression sequential-pattern-mining  \n",
       "yolo                               NaN                       NaN  \n",
       "matrix-factorisation               NaN                       NaN  \n",
       "tools                              NaN                       NaN  \n",
       "\n",
       "[3 rows x 526 columns]"
      ]
     },
     "execution_count": 240,
     "metadata": {},
     "output_type": "execute_result"
    }
   ],
   "source": [
    "pairs.head(3)"
   ]
  },
  {
   "cell_type": "markdown",
   "metadata": {},
   "source": [
    "We'll fill the pairs dataframe with 0 values, and for each time a tag appears in the file we'll increment the tag by one. In the end we'll have a dataframe that tells us how many times pairs were used."
   ]
  },
  {
   "cell_type": "code",
   "execution_count": 242,
   "metadata": {
    "collapsed": false
   },
   "outputs": [],
   "source": [
    "# fill NaN with zeros\n",
    "pairs.fillna(0, inplace=True)"
   ]
  },
  {
   "cell_type": "code",
   "execution_count": 243,
   "metadata": {
    "collapsed": true
   },
   "outputs": [],
   "source": [
    "for v in file['Tags']:\n",
    "    pairs.loc[v, v] +=1"
   ]
  },
  {
   "cell_type": "code",
   "execution_count": 247,
   "metadata": {
    "collapsed": false
   },
   "outputs": [
    {
     "data": {
      "text/html": [
       "<style  type=\"text/css\" >\n",
       "    #T_c0334614_576d_11eb_8e3e_0242ac110030row0_col0 {\n",
       "            color:  blue;\n",
       "        }    #T_c0334614_576d_11eb_8e3e_0242ac110030row1_col1 {\n",
       "            color:  blue;\n",
       "        }    #T_c0334614_576d_11eb_8e3e_0242ac110030row2_col2 {\n",
       "            color:  blue;\n",
       "        }    #T_c0334614_576d_11eb_8e3e_0242ac110030row3_col3 {\n",
       "            color:  blue;\n",
       "        }    #T_c0334614_576d_11eb_8e3e_0242ac110030row4_col4 {\n",
       "            color:  blue;\n",
       "        }    #T_c0334614_576d_11eb_8e3e_0242ac110030row4_col9 {\n",
       "            background-color:  green;\n",
       "        }    #T_c0334614_576d_11eb_8e3e_0242ac110030row5_col5 {\n",
       "            color:  blue;\n",
       "        }    #T_c0334614_576d_11eb_8e3e_0242ac110030row6_col6 {\n",
       "            color:  blue;\n",
       "        }    #T_c0334614_576d_11eb_8e3e_0242ac110030row7_col7 {\n",
       "            color:  blue;\n",
       "        }    #T_c0334614_576d_11eb_8e3e_0242ac110030row8_col8 {\n",
       "            color:  blue;\n",
       "        }    #T_c0334614_576d_11eb_8e3e_0242ac110030row9_col4 {\n",
       "            background-color:  green;\n",
       "        }    #T_c0334614_576d_11eb_8e3e_0242ac110030row9_col9 {\n",
       "            color:  blue;\n",
       "        }    #T_c0334614_576d_11eb_8e3e_0242ac110030row10_col10 {\n",
       "            color:  blue;\n",
       "        }    #T_c0334614_576d_11eb_8e3e_0242ac110030row11_col11 {\n",
       "            color:  blue;\n",
       "        }    #T_c0334614_576d_11eb_8e3e_0242ac110030row12_col12 {\n",
       "            color:  blue;\n",
       "        }    #T_c0334614_576d_11eb_8e3e_0242ac110030row13_col13 {\n",
       "            color:  blue;\n",
       "        }    #T_c0334614_576d_11eb_8e3e_0242ac110030row14_col14 {\n",
       "            color:  blue;\n",
       "        }    #T_c0334614_576d_11eb_8e3e_0242ac110030row15_col15 {\n",
       "            color:  blue;\n",
       "        }    #T_c0334614_576d_11eb_8e3e_0242ac110030row16_col16 {\n",
       "            color:  blue;\n",
       "        }    #T_c0334614_576d_11eb_8e3e_0242ac110030row17_col17 {\n",
       "            color:  blue;\n",
       "        }    #T_c0334614_576d_11eb_8e3e_0242ac110030row18_col18 {\n",
       "            color:  blue;\n",
       "        }    #T_c0334614_576d_11eb_8e3e_0242ac110030row19_col19 {\n",
       "            color:  blue;\n",
       "        }</style>  \n",
       "<table id=\"T_c0334614_576d_11eb_8e3e_0242ac110030\" > \n",
       "<thead>    <tr> \n",
       "        <th class=\"blank level0\" ></th> \n",
       "        <th class=\"col_heading level0 col0\" >machine-learning-model</th> \n",
       "        <th class=\"col_heading level0 col1\" >statistics</th> \n",
       "        <th class=\"col_heading level0 col2\" >clustering</th> \n",
       "        <th class=\"col_heading level0 col3\" >predictive-modeling</th> \n",
       "        <th class=\"col_heading level0 col4\" >r</th> \n",
       "        <th class=\"col_heading level0 col5\" >dataset</th> \n",
       "        <th class=\"col_heading level0 col6\" >regression</th> \n",
       "        <th class=\"col_heading level0 col7\" >pandas</th> \n",
       "        <th class=\"col_heading level0 col8\" >lstm</th> \n",
       "        <th class=\"col_heading level0 col9\" >time-series</th> \n",
       "        <th class=\"col_heading level0 col10\" >cnn</th> \n",
       "        <th class=\"col_heading level0 col11\" >nlp</th> \n",
       "        <th class=\"col_heading level0 col12\" >scikit-learn</th> \n",
       "        <th class=\"col_heading level0 col13\" >tensorflow</th> \n",
       "        <th class=\"col_heading level0 col14\" >classification</th> \n",
       "        <th class=\"col_heading level0 col15\" >keras</th> \n",
       "        <th class=\"col_heading level0 col16\" >neural-network</th> \n",
       "        <th class=\"col_heading level0 col17\" >deep-learning</th> \n",
       "        <th class=\"col_heading level0 col18\" >python</th> \n",
       "        <th class=\"col_heading level0 col19\" >machine-learning</th> \n",
       "    </tr></thead> \n",
       "<tbody>    <tr> \n",
       "        <th id=\"T_c0334614_576d_11eb_8e3e_0242ac110030level0_row0\" class=\"row_heading level0 row0\" >machine-learning-model</th> \n",
       "        <td id=\"T_c0334614_576d_11eb_8e3e_0242ac110030row0_col0\" class=\"data row0 col0\" >224</td> \n",
       "        <td id=\"T_c0334614_576d_11eb_8e3e_0242ac110030row0_col1\" class=\"data row0 col1\" >3</td> \n",
       "        <td id=\"T_c0334614_576d_11eb_8e3e_0242ac110030row0_col2\" class=\"data row0 col2\" >3</td> \n",
       "        <td id=\"T_c0334614_576d_11eb_8e3e_0242ac110030row0_col3\" class=\"data row0 col3\" >21</td> \n",
       "        <td id=\"T_c0334614_576d_11eb_8e3e_0242ac110030row0_col4\" class=\"data row0 col4\" >7</td> \n",
       "        <td id=\"T_c0334614_576d_11eb_8e3e_0242ac110030row0_col5\" class=\"data row0 col5\" >12</td> \n",
       "        <td id=\"T_c0334614_576d_11eb_8e3e_0242ac110030row0_col6\" class=\"data row0 col6\" >8</td> \n",
       "        <td id=\"T_c0334614_576d_11eb_8e3e_0242ac110030row0_col7\" class=\"data row0 col7\" >4</td> \n",
       "        <td id=\"T_c0334614_576d_11eb_8e3e_0242ac110030row0_col8\" class=\"data row0 col8\" >5</td> \n",
       "        <td id=\"T_c0334614_576d_11eb_8e3e_0242ac110030row0_col9\" class=\"data row0 col9\" >7</td> \n",
       "        <td id=\"T_c0334614_576d_11eb_8e3e_0242ac110030row0_col10\" class=\"data row0 col10\" >4</td> \n",
       "        <td id=\"T_c0334614_576d_11eb_8e3e_0242ac110030row0_col11\" class=\"data row0 col11\" >4</td> \n",
       "        <td id=\"T_c0334614_576d_11eb_8e3e_0242ac110030row0_col12\" class=\"data row0 col12\" >18</td> \n",
       "        <td id=\"T_c0334614_576d_11eb_8e3e_0242ac110030row0_col13\" class=\"data row0 col13\" >9</td> \n",
       "        <td id=\"T_c0334614_576d_11eb_8e3e_0242ac110030row0_col14\" class=\"data row0 col14\" >21</td> \n",
       "        <td id=\"T_c0334614_576d_11eb_8e3e_0242ac110030row0_col15\" class=\"data row0 col15\" >17</td> \n",
       "        <td id=\"T_c0334614_576d_11eb_8e3e_0242ac110030row0_col16\" class=\"data row0 col16\" >10</td> \n",
       "        <td id=\"T_c0334614_576d_11eb_8e3e_0242ac110030row0_col17\" class=\"data row0 col17\" >19</td> \n",
       "        <td id=\"T_c0334614_576d_11eb_8e3e_0242ac110030row0_col18\" class=\"data row0 col18\" >37</td> \n",
       "        <td id=\"T_c0334614_576d_11eb_8e3e_0242ac110030row0_col19\" class=\"data row0 col19\" >139</td> \n",
       "    </tr>    <tr> \n",
       "        <th id=\"T_c0334614_576d_11eb_8e3e_0242ac110030level0_row1\" class=\"row_heading level0 row1\" >statistics</th> \n",
       "        <td id=\"T_c0334614_576d_11eb_8e3e_0242ac110030row1_col0\" class=\"data row1 col0\" >3</td> \n",
       "        <td id=\"T_c0334614_576d_11eb_8e3e_0242ac110030row1_col1\" class=\"data row1 col1\" >234</td> \n",
       "        <td id=\"T_c0334614_576d_11eb_8e3e_0242ac110030row1_col2\" class=\"data row1 col2\" >3</td> \n",
       "        <td id=\"T_c0334614_576d_11eb_8e3e_0242ac110030row1_col3\" class=\"data row1 col3\" >16</td> \n",
       "        <td id=\"T_c0334614_576d_11eb_8e3e_0242ac110030row1_col4\" class=\"data row1 col4\" >16</td> \n",
       "        <td id=\"T_c0334614_576d_11eb_8e3e_0242ac110030row1_col5\" class=\"data row1 col5\" >17</td> \n",
       "        <td id=\"T_c0334614_576d_11eb_8e3e_0242ac110030row1_col6\" class=\"data row1 col6\" >16</td> \n",
       "        <td id=\"T_c0334614_576d_11eb_8e3e_0242ac110030row1_col7\" class=\"data row1 col7\" >3</td> \n",
       "        <td id=\"T_c0334614_576d_11eb_8e3e_0242ac110030row1_col8\" class=\"data row1 col8\" >1</td> \n",
       "        <td id=\"T_c0334614_576d_11eb_8e3e_0242ac110030row1_col9\" class=\"data row1 col9\" >22</td> \n",
       "        <td id=\"T_c0334614_576d_11eb_8e3e_0242ac110030row1_col10\" class=\"data row1 col10\" >1</td> \n",
       "        <td id=\"T_c0334614_576d_11eb_8e3e_0242ac110030row1_col11\" class=\"data row1 col11\" >3</td> \n",
       "        <td id=\"T_c0334614_576d_11eb_8e3e_0242ac110030row1_col12\" class=\"data row1 col12\" >6</td> \n",
       "        <td id=\"T_c0334614_576d_11eb_8e3e_0242ac110030row1_col13\" class=\"data row1 col13\" >0</td> \n",
       "        <td id=\"T_c0334614_576d_11eb_8e3e_0242ac110030row1_col14\" class=\"data row1 col14\" >19</td> \n",
       "        <td id=\"T_c0334614_576d_11eb_8e3e_0242ac110030row1_col15\" class=\"data row1 col15\" >3</td> \n",
       "        <td id=\"T_c0334614_576d_11eb_8e3e_0242ac110030row1_col16\" class=\"data row1 col16\" >11</td> \n",
       "        <td id=\"T_c0334614_576d_11eb_8e3e_0242ac110030row1_col17\" class=\"data row1 col17\" >12</td> \n",
       "        <td id=\"T_c0334614_576d_11eb_8e3e_0242ac110030row1_col18\" class=\"data row1 col18\" >35</td> \n",
       "        <td id=\"T_c0334614_576d_11eb_8e3e_0242ac110030row1_col19\" class=\"data row1 col19\" >89</td> \n",
       "    </tr>    <tr> \n",
       "        <th id=\"T_c0334614_576d_11eb_8e3e_0242ac110030level0_row2\" class=\"row_heading level0 row2\" >clustering</th> \n",
       "        <td id=\"T_c0334614_576d_11eb_8e3e_0242ac110030row2_col0\" class=\"data row2 col0\" >3</td> \n",
       "        <td id=\"T_c0334614_576d_11eb_8e3e_0242ac110030row2_col1\" class=\"data row2 col1\" >3</td> \n",
       "        <td id=\"T_c0334614_576d_11eb_8e3e_0242ac110030row2_col2\" class=\"data row2 col2\" >257</td> \n",
       "        <td id=\"T_c0334614_576d_11eb_8e3e_0242ac110030row2_col3\" class=\"data row2 col3\" >0</td> \n",
       "        <td id=\"T_c0334614_576d_11eb_8e3e_0242ac110030row2_col4\" class=\"data row2 col4\" >16</td> \n",
       "        <td id=\"T_c0334614_576d_11eb_8e3e_0242ac110030row2_col5\" class=\"data row2 col5\" >5</td> \n",
       "        <td id=\"T_c0334614_576d_11eb_8e3e_0242ac110030row2_col6\" class=\"data row2 col6\" >2</td> \n",
       "        <td id=\"T_c0334614_576d_11eb_8e3e_0242ac110030row2_col7\" class=\"data row2 col7\" >5</td> \n",
       "        <td id=\"T_c0334614_576d_11eb_8e3e_0242ac110030row2_col8\" class=\"data row2 col8\" >3</td> \n",
       "        <td id=\"T_c0334614_576d_11eb_8e3e_0242ac110030row2_col9\" class=\"data row2 col9\" >20</td> \n",
       "        <td id=\"T_c0334614_576d_11eb_8e3e_0242ac110030row2_col10\" class=\"data row2 col10\" >0</td> \n",
       "        <td id=\"T_c0334614_576d_11eb_8e3e_0242ac110030row2_col11\" class=\"data row2 col11\" >9</td> \n",
       "        <td id=\"T_c0334614_576d_11eb_8e3e_0242ac110030row2_col12\" class=\"data row2 col12\" >24</td> \n",
       "        <td id=\"T_c0334614_576d_11eb_8e3e_0242ac110030row2_col13\" class=\"data row2 col13\" >0</td> \n",
       "        <td id=\"T_c0334614_576d_11eb_8e3e_0242ac110030row2_col14\" class=\"data row2 col14\" >12</td> \n",
       "        <td id=\"T_c0334614_576d_11eb_8e3e_0242ac110030row2_col15\" class=\"data row2 col15\" >0</td> \n",
       "        <td id=\"T_c0334614_576d_11eb_8e3e_0242ac110030row2_col16\" class=\"data row2 col16\" >8</td> \n",
       "        <td id=\"T_c0334614_576d_11eb_8e3e_0242ac110030row2_col17\" class=\"data row2 col17\" >2</td> \n",
       "        <td id=\"T_c0334614_576d_11eb_8e3e_0242ac110030row2_col18\" class=\"data row2 col18\" >45</td> \n",
       "        <td id=\"T_c0334614_576d_11eb_8e3e_0242ac110030row2_col19\" class=\"data row2 col19\" >61</td> \n",
       "    </tr>    <tr> \n",
       "        <th id=\"T_c0334614_576d_11eb_8e3e_0242ac110030level0_row3\" class=\"row_heading level0 row3\" >predictive-modeling</th> \n",
       "        <td id=\"T_c0334614_576d_11eb_8e3e_0242ac110030row3_col0\" class=\"data row3 col0\" >21</td> \n",
       "        <td id=\"T_c0334614_576d_11eb_8e3e_0242ac110030row3_col1\" class=\"data row3 col1\" >16</td> \n",
       "        <td id=\"T_c0334614_576d_11eb_8e3e_0242ac110030row3_col2\" class=\"data row3 col2\" >0</td> \n",
       "        <td id=\"T_c0334614_576d_11eb_8e3e_0242ac110030row3_col3\" class=\"data row3 col3\" >265</td> \n",
       "        <td id=\"T_c0334614_576d_11eb_8e3e_0242ac110030row3_col4\" class=\"data row3 col4\" >13</td> \n",
       "        <td id=\"T_c0334614_576d_11eb_8e3e_0242ac110030row3_col5\" class=\"data row3 col5\" >7</td> \n",
       "        <td id=\"T_c0334614_576d_11eb_8e3e_0242ac110030row3_col6\" class=\"data row3 col6\" >28</td> \n",
       "        <td id=\"T_c0334614_576d_11eb_8e3e_0242ac110030row3_col7\" class=\"data row3 col7\" >4</td> \n",
       "        <td id=\"T_c0334614_576d_11eb_8e3e_0242ac110030row3_col8\" class=\"data row3 col8\" >13</td> \n",
       "        <td id=\"T_c0334614_576d_11eb_8e3e_0242ac110030row3_col9\" class=\"data row3 col9\" >31</td> \n",
       "        <td id=\"T_c0334614_576d_11eb_8e3e_0242ac110030row3_col10\" class=\"data row3 col10\" >6</td> \n",
       "        <td id=\"T_c0334614_576d_11eb_8e3e_0242ac110030row3_col11\" class=\"data row3 col11\" >1</td> \n",
       "        <td id=\"T_c0334614_576d_11eb_8e3e_0242ac110030row3_col12\" class=\"data row3 col12\" >12</td> \n",
       "        <td id=\"T_c0334614_576d_11eb_8e3e_0242ac110030row3_col13\" class=\"data row3 col13\" >6</td> \n",
       "        <td id=\"T_c0334614_576d_11eb_8e3e_0242ac110030row3_col14\" class=\"data row3 col14\" >27</td> \n",
       "        <td id=\"T_c0334614_576d_11eb_8e3e_0242ac110030row3_col15\" class=\"data row3 col15\" >11</td> \n",
       "        <td id=\"T_c0334614_576d_11eb_8e3e_0242ac110030row3_col16\" class=\"data row3 col16\" >13</td> \n",
       "        <td id=\"T_c0334614_576d_11eb_8e3e_0242ac110030row3_col17\" class=\"data row3 col17\" >32</td> \n",
       "        <td id=\"T_c0334614_576d_11eb_8e3e_0242ac110030row3_col18\" class=\"data row3 col18\" >35</td> \n",
       "        <td id=\"T_c0334614_576d_11eb_8e3e_0242ac110030row3_col19\" class=\"data row3 col19\" >123</td> \n",
       "    </tr>    <tr> \n",
       "        <th id=\"T_c0334614_576d_11eb_8e3e_0242ac110030level0_row4\" class=\"row_heading level0 row4\" >r</th> \n",
       "        <td id=\"T_c0334614_576d_11eb_8e3e_0242ac110030row4_col0\" class=\"data row4 col0\" >7</td> \n",
       "        <td id=\"T_c0334614_576d_11eb_8e3e_0242ac110030row4_col1\" class=\"data row4 col1\" >16</td> \n",
       "        <td id=\"T_c0334614_576d_11eb_8e3e_0242ac110030row4_col2\" class=\"data row4 col2\" >16</td> \n",
       "        <td id=\"T_c0334614_576d_11eb_8e3e_0242ac110030row4_col3\" class=\"data row4 col3\" >13</td> \n",
       "        <td id=\"T_c0334614_576d_11eb_8e3e_0242ac110030row4_col4\" class=\"data row4 col4\" >268</td> \n",
       "        <td id=\"T_c0334614_576d_11eb_8e3e_0242ac110030row4_col5\" class=\"data row4 col5\" >6</td> \n",
       "        <td id=\"T_c0334614_576d_11eb_8e3e_0242ac110030row4_col6\" class=\"data row4 col6\" >10</td> \n",
       "        <td id=\"T_c0334614_576d_11eb_8e3e_0242ac110030row4_col7\" class=\"data row4 col7\" >2</td> \n",
       "        <td id=\"T_c0334614_576d_11eb_8e3e_0242ac110030row4_col8\" class=\"data row4 col8\" >3</td> \n",
       "        <td id=\"T_c0334614_576d_11eb_8e3e_0242ac110030row4_col9\" class=\"data row4 col9\" >22</td> \n",
       "        <td id=\"T_c0334614_576d_11eb_8e3e_0242ac110030row4_col10\" class=\"data row4 col10\" >2</td> \n",
       "        <td id=\"T_c0334614_576d_11eb_8e3e_0242ac110030row4_col11\" class=\"data row4 col11\" >4</td> \n",
       "        <td id=\"T_c0334614_576d_11eb_8e3e_0242ac110030row4_col12\" class=\"data row4 col12\" >1</td> \n",
       "        <td id=\"T_c0334614_576d_11eb_8e3e_0242ac110030row4_col13\" class=\"data row4 col13\" >1</td> \n",
       "        <td id=\"T_c0334614_576d_11eb_8e3e_0242ac110030row4_col14\" class=\"data row4 col14\" >10</td> \n",
       "        <td id=\"T_c0334614_576d_11eb_8e3e_0242ac110030row4_col15\" class=\"data row4 col15\" >10</td> \n",
       "        <td id=\"T_c0334614_576d_11eb_8e3e_0242ac110030row4_col16\" class=\"data row4 col16\" >9</td> \n",
       "        <td id=\"T_c0334614_576d_11eb_8e3e_0242ac110030row4_col17\" class=\"data row4 col17\" >5</td> \n",
       "        <td id=\"T_c0334614_576d_11eb_8e3e_0242ac110030row4_col18\" class=\"data row4 col18\" >24</td> \n",
       "        <td id=\"T_c0334614_576d_11eb_8e3e_0242ac110030row4_col19\" class=\"data row4 col19\" >63</td> \n",
       "    </tr>    <tr> \n",
       "        <th id=\"T_c0334614_576d_11eb_8e3e_0242ac110030level0_row5\" class=\"row_heading level0 row5\" >dataset</th> \n",
       "        <td id=\"T_c0334614_576d_11eb_8e3e_0242ac110030row5_col0\" class=\"data row5 col0\" >12</td> \n",
       "        <td id=\"T_c0334614_576d_11eb_8e3e_0242ac110030row5_col1\" class=\"data row5 col1\" >17</td> \n",
       "        <td id=\"T_c0334614_576d_11eb_8e3e_0242ac110030row5_col2\" class=\"data row5 col2\" >5</td> \n",
       "        <td id=\"T_c0334614_576d_11eb_8e3e_0242ac110030row5_col3\" class=\"data row5 col3\" >7</td> \n",
       "        <td id=\"T_c0334614_576d_11eb_8e3e_0242ac110030row5_col4\" class=\"data row5 col4\" >6</td> \n",
       "        <td id=\"T_c0334614_576d_11eb_8e3e_0242ac110030row5_col5\" class=\"data row5 col5\" >340</td> \n",
       "        <td id=\"T_c0334614_576d_11eb_8e3e_0242ac110030row5_col6\" class=\"data row5 col6\" >6</td> \n",
       "        <td id=\"T_c0334614_576d_11eb_8e3e_0242ac110030row5_col7\" class=\"data row5 col7\" >14</td> \n",
       "        <td id=\"T_c0334614_576d_11eb_8e3e_0242ac110030row5_col8\" class=\"data row5 col8\" >7</td> \n",
       "        <td id=\"T_c0334614_576d_11eb_8e3e_0242ac110030row5_col9\" class=\"data row5 col9\" >6</td> \n",
       "        <td id=\"T_c0334614_576d_11eb_8e3e_0242ac110030row5_col10\" class=\"data row5 col10\" >11</td> \n",
       "        <td id=\"T_c0334614_576d_11eb_8e3e_0242ac110030row5_col11\" class=\"data row5 col11\" >11</td> \n",
       "        <td id=\"T_c0334614_576d_11eb_8e3e_0242ac110030row5_col12\" class=\"data row5 col12\" >9</td> \n",
       "        <td id=\"T_c0334614_576d_11eb_8e3e_0242ac110030row5_col13\" class=\"data row5 col13\" >9</td> \n",
       "        <td id=\"T_c0334614_576d_11eb_8e3e_0242ac110030row5_col14\" class=\"data row5 col14\" >28</td> \n",
       "        <td id=\"T_c0334614_576d_11eb_8e3e_0242ac110030row5_col15\" class=\"data row5 col15\" >13</td> \n",
       "        <td id=\"T_c0334614_576d_11eb_8e3e_0242ac110030row5_col16\" class=\"data row5 col16\" >20</td> \n",
       "        <td id=\"T_c0334614_576d_11eb_8e3e_0242ac110030row5_col17\" class=\"data row5 col17\" >32</td> \n",
       "        <td id=\"T_c0334614_576d_11eb_8e3e_0242ac110030row5_col18\" class=\"data row5 col18\" >53</td> \n",
       "        <td id=\"T_c0334614_576d_11eb_8e3e_0242ac110030row5_col19\" class=\"data row5 col19\" >99</td> \n",
       "    </tr>    <tr> \n",
       "        <th id=\"T_c0334614_576d_11eb_8e3e_0242ac110030level0_row6\" class=\"row_heading level0 row6\" >regression</th> \n",
       "        <td id=\"T_c0334614_576d_11eb_8e3e_0242ac110030row6_col0\" class=\"data row6 col0\" >8</td> \n",
       "        <td id=\"T_c0334614_576d_11eb_8e3e_0242ac110030row6_col1\" class=\"data row6 col1\" >16</td> \n",
       "        <td id=\"T_c0334614_576d_11eb_8e3e_0242ac110030row6_col2\" class=\"data row6 col2\" >2</td> \n",
       "        <td id=\"T_c0334614_576d_11eb_8e3e_0242ac110030row6_col3\" class=\"data row6 col3\" >28</td> \n",
       "        <td id=\"T_c0334614_576d_11eb_8e3e_0242ac110030row6_col4\" class=\"data row6 col4\" >10</td> \n",
       "        <td id=\"T_c0334614_576d_11eb_8e3e_0242ac110030row6_col5\" class=\"data row6 col5\" >6</td> \n",
       "        <td id=\"T_c0334614_576d_11eb_8e3e_0242ac110030row6_col6\" class=\"data row6 col6\" >347</td> \n",
       "        <td id=\"T_c0334614_576d_11eb_8e3e_0242ac110030row6_col7\" class=\"data row6 col7\" >6</td> \n",
       "        <td id=\"T_c0334614_576d_11eb_8e3e_0242ac110030row6_col8\" class=\"data row6 col8\" >11</td> \n",
       "        <td id=\"T_c0334614_576d_11eb_8e3e_0242ac110030row6_col9\" class=\"data row6 col9\" >24</td> \n",
       "        <td id=\"T_c0334614_576d_11eb_8e3e_0242ac110030row6_col10\" class=\"data row6 col10\" >6</td> \n",
       "        <td id=\"T_c0334614_576d_11eb_8e3e_0242ac110030row6_col11\" class=\"data row6 col11\" >2</td> \n",
       "        <td id=\"T_c0334614_576d_11eb_8e3e_0242ac110030row6_col12\" class=\"data row6 col12\" >37</td> \n",
       "        <td id=\"T_c0334614_576d_11eb_8e3e_0242ac110030row6_col13\" class=\"data row6 col13\" >9</td> \n",
       "        <td id=\"T_c0334614_576d_11eb_8e3e_0242ac110030row6_col14\" class=\"data row6 col14\" >34</td> \n",
       "        <td id=\"T_c0334614_576d_11eb_8e3e_0242ac110030row6_col15\" class=\"data row6 col15\" >31</td> \n",
       "        <td id=\"T_c0334614_576d_11eb_8e3e_0242ac110030row6_col16\" class=\"data row6 col16\" >42</td> \n",
       "        <td id=\"T_c0334614_576d_11eb_8e3e_0242ac110030row6_col17\" class=\"data row6 col17\" >21</td> \n",
       "        <td id=\"T_c0334614_576d_11eb_8e3e_0242ac110030row6_col18\" class=\"data row6 col18\" >59</td> \n",
       "        <td id=\"T_c0334614_576d_11eb_8e3e_0242ac110030row6_col19\" class=\"data row6 col19\" >119</td> \n",
       "    </tr>    <tr> \n",
       "        <th id=\"T_c0334614_576d_11eb_8e3e_0242ac110030level0_row7\" class=\"row_heading level0 row7\" >pandas</th> \n",
       "        <td id=\"T_c0334614_576d_11eb_8e3e_0242ac110030row7_col0\" class=\"data row7 col0\" >4</td> \n",
       "        <td id=\"T_c0334614_576d_11eb_8e3e_0242ac110030row7_col1\" class=\"data row7 col1\" >3</td> \n",
       "        <td id=\"T_c0334614_576d_11eb_8e3e_0242ac110030row7_col2\" class=\"data row7 col2\" >5</td> \n",
       "        <td id=\"T_c0334614_576d_11eb_8e3e_0242ac110030row7_col3\" class=\"data row7 col3\" >4</td> \n",
       "        <td id=\"T_c0334614_576d_11eb_8e3e_0242ac110030row7_col4\" class=\"data row7 col4\" >2</td> \n",
       "        <td id=\"T_c0334614_576d_11eb_8e3e_0242ac110030row7_col5\" class=\"data row7 col5\" >14</td> \n",
       "        <td id=\"T_c0334614_576d_11eb_8e3e_0242ac110030row7_col6\" class=\"data row7 col6\" >6</td> \n",
       "        <td id=\"T_c0334614_576d_11eb_8e3e_0242ac110030row7_col7\" class=\"data row7 col7\" >354</td> \n",
       "        <td id=\"T_c0334614_576d_11eb_8e3e_0242ac110030row7_col8\" class=\"data row7 col8\" >7</td> \n",
       "        <td id=\"T_c0334614_576d_11eb_8e3e_0242ac110030row7_col9\" class=\"data row7 col9\" >19</td> \n",
       "        <td id=\"T_c0334614_576d_11eb_8e3e_0242ac110030row7_col10\" class=\"data row7 col10\" >1</td> \n",
       "        <td id=\"T_c0334614_576d_11eb_8e3e_0242ac110030row7_col11\" class=\"data row7 col11\" >3</td> \n",
       "        <td id=\"T_c0334614_576d_11eb_8e3e_0242ac110030row7_col12\" class=\"data row7 col12\" >37</td> \n",
       "        <td id=\"T_c0334614_576d_11eb_8e3e_0242ac110030row7_col13\" class=\"data row7 col13\" >3</td> \n",
       "        <td id=\"T_c0334614_576d_11eb_8e3e_0242ac110030row7_col14\" class=\"data row7 col14\" >3</td> \n",
       "        <td id=\"T_c0334614_576d_11eb_8e3e_0242ac110030row7_col15\" class=\"data row7 col15\" >3</td> \n",
       "        <td id=\"T_c0334614_576d_11eb_8e3e_0242ac110030row7_col16\" class=\"data row7 col16\" >1</td> \n",
       "        <td id=\"T_c0334614_576d_11eb_8e3e_0242ac110030row7_col17\" class=\"data row7 col17\" >1</td> \n",
       "        <td id=\"T_c0334614_576d_11eb_8e3e_0242ac110030row7_col18\" class=\"data row7 col18\" >244</td> \n",
       "        <td id=\"T_c0334614_576d_11eb_8e3e_0242ac110030row7_col19\" class=\"data row7 col19\" >62</td> \n",
       "    </tr>    <tr> \n",
       "        <th id=\"T_c0334614_576d_11eb_8e3e_0242ac110030level0_row8\" class=\"row_heading level0 row8\" >lstm</th> \n",
       "        <td id=\"T_c0334614_576d_11eb_8e3e_0242ac110030row8_col0\" class=\"data row8 col0\" >5</td> \n",
       "        <td id=\"T_c0334614_576d_11eb_8e3e_0242ac110030row8_col1\" class=\"data row8 col1\" >1</td> \n",
       "        <td id=\"T_c0334614_576d_11eb_8e3e_0242ac110030row8_col2\" class=\"data row8 col2\" >3</td> \n",
       "        <td id=\"T_c0334614_576d_11eb_8e3e_0242ac110030row8_col3\" class=\"data row8 col3\" >13</td> \n",
       "        <td id=\"T_c0334614_576d_11eb_8e3e_0242ac110030row8_col4\" class=\"data row8 col4\" >3</td> \n",
       "        <td id=\"T_c0334614_576d_11eb_8e3e_0242ac110030row8_col5\" class=\"data row8 col5\" >7</td> \n",
       "        <td id=\"T_c0334614_576d_11eb_8e3e_0242ac110030row8_col6\" class=\"data row8 col6\" >11</td> \n",
       "        <td id=\"T_c0334614_576d_11eb_8e3e_0242ac110030row8_col7\" class=\"data row8 col7\" >7</td> \n",
       "        <td id=\"T_c0334614_576d_11eb_8e3e_0242ac110030row8_col8\" class=\"data row8 col8\" >402</td> \n",
       "        <td id=\"T_c0334614_576d_11eb_8e3e_0242ac110030row8_col9\" class=\"data row8 col9\" >87</td> \n",
       "        <td id=\"T_c0334614_576d_11eb_8e3e_0242ac110030row8_col10\" class=\"data row8 col10\" >24</td> \n",
       "        <td id=\"T_c0334614_576d_11eb_8e3e_0242ac110030row8_col11\" class=\"data row8 col11\" >19</td> \n",
       "        <td id=\"T_c0334614_576d_11eb_8e3e_0242ac110030row8_col12\" class=\"data row8 col12\" >2</td> \n",
       "        <td id=\"T_c0334614_576d_11eb_8e3e_0242ac110030row8_col13\" class=\"data row8 col13\" >43</td> \n",
       "        <td id=\"T_c0334614_576d_11eb_8e3e_0242ac110030row8_col14\" class=\"data row8 col14\" >20</td> \n",
       "        <td id=\"T_c0334614_576d_11eb_8e3e_0242ac110030row8_col15\" class=\"data row8 col15\" >133</td> \n",
       "        <td id=\"T_c0334614_576d_11eb_8e3e_0242ac110030row8_col16\" class=\"data row8 col16\" >69</td> \n",
       "        <td id=\"T_c0334614_576d_11eb_8e3e_0242ac110030row8_col17\" class=\"data row8 col17\" >103</td> \n",
       "        <td id=\"T_c0334614_576d_11eb_8e3e_0242ac110030row8_col18\" class=\"data row8 col18\" >61</td> \n",
       "        <td id=\"T_c0334614_576d_11eb_8e3e_0242ac110030row8_col19\" class=\"data row8 col19\" >71</td> \n",
       "    </tr>    <tr> \n",
       "        <th id=\"T_c0334614_576d_11eb_8e3e_0242ac110030level0_row9\" class=\"row_heading level0 row9\" >time-series</th> \n",
       "        <td id=\"T_c0334614_576d_11eb_8e3e_0242ac110030row9_col0\" class=\"data row9 col0\" >7</td> \n",
       "        <td id=\"T_c0334614_576d_11eb_8e3e_0242ac110030row9_col1\" class=\"data row9 col1\" >22</td> \n",
       "        <td id=\"T_c0334614_576d_11eb_8e3e_0242ac110030row9_col2\" class=\"data row9 col2\" >20</td> \n",
       "        <td id=\"T_c0334614_576d_11eb_8e3e_0242ac110030row9_col3\" class=\"data row9 col3\" >31</td> \n",
       "        <td id=\"T_c0334614_576d_11eb_8e3e_0242ac110030row9_col4\" class=\"data row9 col4\" >22</td> \n",
       "        <td id=\"T_c0334614_576d_11eb_8e3e_0242ac110030row9_col5\" class=\"data row9 col5\" >6</td> \n",
       "        <td id=\"T_c0334614_576d_11eb_8e3e_0242ac110030row9_col6\" class=\"data row9 col6\" >24</td> \n",
       "        <td id=\"T_c0334614_576d_11eb_8e3e_0242ac110030row9_col7\" class=\"data row9 col7\" >19</td> \n",
       "        <td id=\"T_c0334614_576d_11eb_8e3e_0242ac110030row9_col8\" class=\"data row9 col8\" >87</td> \n",
       "        <td id=\"T_c0334614_576d_11eb_8e3e_0242ac110030row9_col9\" class=\"data row9 col9\" >466</td> \n",
       "        <td id=\"T_c0334614_576d_11eb_8e3e_0242ac110030row9_col10\" class=\"data row9 col10\" >8</td> \n",
       "        <td id=\"T_c0334614_576d_11eb_8e3e_0242ac110030row9_col11\" class=\"data row9 col11\" >0</td> \n",
       "        <td id=\"T_c0334614_576d_11eb_8e3e_0242ac110030row9_col12\" class=\"data row9 col12\" >12</td> \n",
       "        <td id=\"T_c0334614_576d_11eb_8e3e_0242ac110030row9_col13\" class=\"data row9 col13\" >9</td> \n",
       "        <td id=\"T_c0334614_576d_11eb_8e3e_0242ac110030row9_col14\" class=\"data row9 col14\" >25</td> \n",
       "        <td id=\"T_c0334614_576d_11eb_8e3e_0242ac110030row9_col15\" class=\"data row9 col15\" >51</td> \n",
       "        <td id=\"T_c0334614_576d_11eb_8e3e_0242ac110030row9_col16\" class=\"data row9 col16\" >33</td> \n",
       "        <td id=\"T_c0334614_576d_11eb_8e3e_0242ac110030row9_col17\" class=\"data row9 col17\" >44</td> \n",
       "        <td id=\"T_c0334614_576d_11eb_8e3e_0242ac110030row9_col18\" class=\"data row9 col18\" >105</td> \n",
       "        <td id=\"T_c0334614_576d_11eb_8e3e_0242ac110030row9_col19\" class=\"data row9 col19\" >131</td> \n",
       "    </tr>    <tr> \n",
       "        <th id=\"T_c0334614_576d_11eb_8e3e_0242ac110030level0_row10\" class=\"row_heading level0 row10\" >cnn</th> \n",
       "        <td id=\"T_c0334614_576d_11eb_8e3e_0242ac110030row10_col0\" class=\"data row10 col0\" >4</td> \n",
       "        <td id=\"T_c0334614_576d_11eb_8e3e_0242ac110030row10_col1\" class=\"data row10 col1\" >1</td> \n",
       "        <td id=\"T_c0334614_576d_11eb_8e3e_0242ac110030row10_col2\" class=\"data row10 col2\" >0</td> \n",
       "        <td id=\"T_c0334614_576d_11eb_8e3e_0242ac110030row10_col3\" class=\"data row10 col3\" >6</td> \n",
       "        <td id=\"T_c0334614_576d_11eb_8e3e_0242ac110030row10_col4\" class=\"data row10 col4\" >2</td> \n",
       "        <td id=\"T_c0334614_576d_11eb_8e3e_0242ac110030row10_col5\" class=\"data row10 col5\" >11</td> \n",
       "        <td id=\"T_c0334614_576d_11eb_8e3e_0242ac110030row10_col6\" class=\"data row10 col6\" >6</td> \n",
       "        <td id=\"T_c0334614_576d_11eb_8e3e_0242ac110030row10_col7\" class=\"data row10 col7\" >1</td> \n",
       "        <td id=\"T_c0334614_576d_11eb_8e3e_0242ac110030row10_col8\" class=\"data row10 col8\" >24</td> \n",
       "        <td id=\"T_c0334614_576d_11eb_8e3e_0242ac110030row10_col9\" class=\"data row10 col9\" >8</td> \n",
       "        <td id=\"T_c0334614_576d_11eb_8e3e_0242ac110030row10_col10\" class=\"data row10 col10\" >489</td> \n",
       "        <td id=\"T_c0334614_576d_11eb_8e3e_0242ac110030row10_col11\" class=\"data row10 col11\" >7</td> \n",
       "        <td id=\"T_c0334614_576d_11eb_8e3e_0242ac110030row10_col12\" class=\"data row10 col12\" >0</td> \n",
       "        <td id=\"T_c0334614_576d_11eb_8e3e_0242ac110030row10_col13\" class=\"data row10 col13\" >57</td> \n",
       "        <td id=\"T_c0334614_576d_11eb_8e3e_0242ac110030row10_col14\" class=\"data row10 col14\" >20</td> \n",
       "        <td id=\"T_c0334614_576d_11eb_8e3e_0242ac110030row10_col15\" class=\"data row10 col15\" >116</td> \n",
       "        <td id=\"T_c0334614_576d_11eb_8e3e_0242ac110030row10_col16\" class=\"data row10 col16\" >118</td> \n",
       "        <td id=\"T_c0334614_576d_11eb_8e3e_0242ac110030row10_col17\" class=\"data row10 col17\" >160</td> \n",
       "        <td id=\"T_c0334614_576d_11eb_8e3e_0242ac110030row10_col18\" class=\"data row10 col18\" >62</td> \n",
       "        <td id=\"T_c0334614_576d_11eb_8e3e_0242ac110030row10_col19\" class=\"data row10 col19\" >124</td> \n",
       "    </tr>    <tr> \n",
       "        <th id=\"T_c0334614_576d_11eb_8e3e_0242ac110030level0_row11\" class=\"row_heading level0 row11\" >nlp</th> \n",
       "        <td id=\"T_c0334614_576d_11eb_8e3e_0242ac110030row11_col0\" class=\"data row11 col0\" >4</td> \n",
       "        <td id=\"T_c0334614_576d_11eb_8e3e_0242ac110030row11_col1\" class=\"data row11 col1\" >3</td> \n",
       "        <td id=\"T_c0334614_576d_11eb_8e3e_0242ac110030row11_col2\" class=\"data row11 col2\" >9</td> \n",
       "        <td id=\"T_c0334614_576d_11eb_8e3e_0242ac110030row11_col3\" class=\"data row11 col3\" >1</td> \n",
       "        <td id=\"T_c0334614_576d_11eb_8e3e_0242ac110030row11_col4\" class=\"data row11 col4\" >4</td> \n",
       "        <td id=\"T_c0334614_576d_11eb_8e3e_0242ac110030row11_col5\" class=\"data row11 col5\" >11</td> \n",
       "        <td id=\"T_c0334614_576d_11eb_8e3e_0242ac110030row11_col6\" class=\"data row11 col6\" >2</td> \n",
       "        <td id=\"T_c0334614_576d_11eb_8e3e_0242ac110030row11_col7\" class=\"data row11 col7\" >3</td> \n",
       "        <td id=\"T_c0334614_576d_11eb_8e3e_0242ac110030row11_col8\" class=\"data row11 col8\" >19</td> \n",
       "        <td id=\"T_c0334614_576d_11eb_8e3e_0242ac110030row11_col9\" class=\"data row11 col9\" >0</td> \n",
       "        <td id=\"T_c0334614_576d_11eb_8e3e_0242ac110030row11_col10\" class=\"data row11 col10\" >7</td> \n",
       "        <td id=\"T_c0334614_576d_11eb_8e3e_0242ac110030row11_col11\" class=\"data row11 col11\" >493</td> \n",
       "        <td id=\"T_c0334614_576d_11eb_8e3e_0242ac110030row11_col12\" class=\"data row11 col12\" >12</td> \n",
       "        <td id=\"T_c0334614_576d_11eb_8e3e_0242ac110030row11_col13\" class=\"data row11 col13\" >11</td> \n",
       "        <td id=\"T_c0334614_576d_11eb_8e3e_0242ac110030row11_col14\" class=\"data row11 col14\" >35</td> \n",
       "        <td id=\"T_c0334614_576d_11eb_8e3e_0242ac110030row11_col15\" class=\"data row11 col15\" >23</td> \n",
       "        <td id=\"T_c0334614_576d_11eb_8e3e_0242ac110030row11_col16\" class=\"data row11 col16\" >24</td> \n",
       "        <td id=\"T_c0334614_576d_11eb_8e3e_0242ac110030row11_col17\" class=\"data row11 col17\" >72</td> \n",
       "        <td id=\"T_c0334614_576d_11eb_8e3e_0242ac110030row11_col18\" class=\"data row11 col18\" >71</td> \n",
       "        <td id=\"T_c0334614_576d_11eb_8e3e_0242ac110030row11_col19\" class=\"data row11 col19\" >113</td> \n",
       "    </tr>    <tr> \n",
       "        <th id=\"T_c0334614_576d_11eb_8e3e_0242ac110030level0_row12\" class=\"row_heading level0 row12\" >scikit-learn</th> \n",
       "        <td id=\"T_c0334614_576d_11eb_8e3e_0242ac110030row12_col0\" class=\"data row12 col0\" >18</td> \n",
       "        <td id=\"T_c0334614_576d_11eb_8e3e_0242ac110030row12_col1\" class=\"data row12 col1\" >6</td> \n",
       "        <td id=\"T_c0334614_576d_11eb_8e3e_0242ac110030row12_col2\" class=\"data row12 col2\" >24</td> \n",
       "        <td id=\"T_c0334614_576d_11eb_8e3e_0242ac110030row12_col3\" class=\"data row12 col3\" >12</td> \n",
       "        <td id=\"T_c0334614_576d_11eb_8e3e_0242ac110030row12_col4\" class=\"data row12 col4\" >1</td> \n",
       "        <td id=\"T_c0334614_576d_11eb_8e3e_0242ac110030row12_col5\" class=\"data row12 col5\" >9</td> \n",
       "        <td id=\"T_c0334614_576d_11eb_8e3e_0242ac110030row12_col6\" class=\"data row12 col6\" >37</td> \n",
       "        <td id=\"T_c0334614_576d_11eb_8e3e_0242ac110030row12_col7\" class=\"data row12 col7\" >37</td> \n",
       "        <td id=\"T_c0334614_576d_11eb_8e3e_0242ac110030row12_col8\" class=\"data row12 col8\" >2</td> \n",
       "        <td id=\"T_c0334614_576d_11eb_8e3e_0242ac110030row12_col9\" class=\"data row12 col9\" >12</td> \n",
       "        <td id=\"T_c0334614_576d_11eb_8e3e_0242ac110030row12_col10\" class=\"data row12 col10\" >0</td> \n",
       "        <td id=\"T_c0334614_576d_11eb_8e3e_0242ac110030row12_col11\" class=\"data row12 col11\" >12</td> \n",
       "        <td id=\"T_c0334614_576d_11eb_8e3e_0242ac110030row12_col12\" class=\"data row12 col12\" >540</td> \n",
       "        <td id=\"T_c0334614_576d_11eb_8e3e_0242ac110030row12_col13\" class=\"data row12 col13\" >15</td> \n",
       "        <td id=\"T_c0334614_576d_11eb_8e3e_0242ac110030row12_col14\" class=\"data row12 col14\" >47</td> \n",
       "        <td id=\"T_c0334614_576d_11eb_8e3e_0242ac110030row12_col15\" class=\"data row12 col15\" >34</td> \n",
       "        <td id=\"T_c0334614_576d_11eb_8e3e_0242ac110030row12_col16\" class=\"data row12 col16\" >24</td> \n",
       "        <td id=\"T_c0334614_576d_11eb_8e3e_0242ac110030row12_col17\" class=\"data row12 col17\" >16</td> \n",
       "        <td id=\"T_c0334614_576d_11eb_8e3e_0242ac110030row12_col18\" class=\"data row12 col18\" >235</td> \n",
       "        <td id=\"T_c0334614_576d_11eb_8e3e_0242ac110030row12_col19\" class=\"data row12 col19\" >188</td> \n",
       "    </tr>    <tr> \n",
       "        <th id=\"T_c0334614_576d_11eb_8e3e_0242ac110030level0_row13\" class=\"row_heading level0 row13\" >tensorflow</th> \n",
       "        <td id=\"T_c0334614_576d_11eb_8e3e_0242ac110030row13_col0\" class=\"data row13 col0\" >9</td> \n",
       "        <td id=\"T_c0334614_576d_11eb_8e3e_0242ac110030row13_col1\" class=\"data row13 col1\" >0</td> \n",
       "        <td id=\"T_c0334614_576d_11eb_8e3e_0242ac110030row13_col2\" class=\"data row13 col2\" >0</td> \n",
       "        <td id=\"T_c0334614_576d_11eb_8e3e_0242ac110030row13_col3\" class=\"data row13 col3\" >6</td> \n",
       "        <td id=\"T_c0334614_576d_11eb_8e3e_0242ac110030row13_col4\" class=\"data row13 col4\" >1</td> \n",
       "        <td id=\"T_c0334614_576d_11eb_8e3e_0242ac110030row13_col5\" class=\"data row13 col5\" >9</td> \n",
       "        <td id=\"T_c0334614_576d_11eb_8e3e_0242ac110030row13_col6\" class=\"data row13 col6\" >9</td> \n",
       "        <td id=\"T_c0334614_576d_11eb_8e3e_0242ac110030row13_col7\" class=\"data row13 col7\" >3</td> \n",
       "        <td id=\"T_c0334614_576d_11eb_8e3e_0242ac110030row13_col8\" class=\"data row13 col8\" >43</td> \n",
       "        <td id=\"T_c0334614_576d_11eb_8e3e_0242ac110030row13_col9\" class=\"data row13 col9\" >9</td> \n",
       "        <td id=\"T_c0334614_576d_11eb_8e3e_0242ac110030row13_col10\" class=\"data row13 col10\" >57</td> \n",
       "        <td id=\"T_c0334614_576d_11eb_8e3e_0242ac110030row13_col11\" class=\"data row13 col11\" >11</td> \n",
       "        <td id=\"T_c0334614_576d_11eb_8e3e_0242ac110030row13_col12\" class=\"data row13 col12\" >15</td> \n",
       "        <td id=\"T_c0334614_576d_11eb_8e3e_0242ac110030row13_col13\" class=\"data row13 col13\" >584</td> \n",
       "        <td id=\"T_c0334614_576d_11eb_8e3e_0242ac110030row13_col14\" class=\"data row13 col14\" >20</td> \n",
       "        <td id=\"T_c0334614_576d_11eb_8e3e_0242ac110030row13_col15\" class=\"data row13 col15\" >256</td> \n",
       "        <td id=\"T_c0334614_576d_11eb_8e3e_0242ac110030row13_col16\" class=\"data row13 col16\" >108</td> \n",
       "        <td id=\"T_c0334614_576d_11eb_8e3e_0242ac110030row13_col17\" class=\"data row13 col17\" >136</td> \n",
       "        <td id=\"T_c0334614_576d_11eb_8e3e_0242ac110030row13_col18\" class=\"data row13 col18\" >167</td> \n",
       "        <td id=\"T_c0334614_576d_11eb_8e3e_0242ac110030row13_col19\" class=\"data row13 col19\" >106</td> \n",
       "    </tr>    <tr> \n",
       "        <th id=\"T_c0334614_576d_11eb_8e3e_0242ac110030level0_row14\" class=\"row_heading level0 row14\" >classification</th> \n",
       "        <td id=\"T_c0334614_576d_11eb_8e3e_0242ac110030row14_col0\" class=\"data row14 col0\" >21</td> \n",
       "        <td id=\"T_c0334614_576d_11eb_8e3e_0242ac110030row14_col1\" class=\"data row14 col1\" >19</td> \n",
       "        <td id=\"T_c0334614_576d_11eb_8e3e_0242ac110030row14_col2\" class=\"data row14 col2\" >12</td> \n",
       "        <td id=\"T_c0334614_576d_11eb_8e3e_0242ac110030row14_col3\" class=\"data row14 col3\" >27</td> \n",
       "        <td id=\"T_c0334614_576d_11eb_8e3e_0242ac110030row14_col4\" class=\"data row14 col4\" >10</td> \n",
       "        <td id=\"T_c0334614_576d_11eb_8e3e_0242ac110030row14_col5\" class=\"data row14 col5\" >28</td> \n",
       "        <td id=\"T_c0334614_576d_11eb_8e3e_0242ac110030row14_col6\" class=\"data row14 col6\" >34</td> \n",
       "        <td id=\"T_c0334614_576d_11eb_8e3e_0242ac110030row14_col7\" class=\"data row14 col7\" >3</td> \n",
       "        <td id=\"T_c0334614_576d_11eb_8e3e_0242ac110030row14_col8\" class=\"data row14 col8\" >20</td> \n",
       "        <td id=\"T_c0334614_576d_11eb_8e3e_0242ac110030row14_col9\" class=\"data row14 col9\" >25</td> \n",
       "        <td id=\"T_c0334614_576d_11eb_8e3e_0242ac110030row14_col10\" class=\"data row14 col10\" >20</td> \n",
       "        <td id=\"T_c0334614_576d_11eb_8e3e_0242ac110030row14_col11\" class=\"data row14 col11\" >35</td> \n",
       "        <td id=\"T_c0334614_576d_11eb_8e3e_0242ac110030row14_col12\" class=\"data row14 col12\" >47</td> \n",
       "        <td id=\"T_c0334614_576d_11eb_8e3e_0242ac110030row14_col13\" class=\"data row14 col13\" >20</td> \n",
       "        <td id=\"T_c0334614_576d_11eb_8e3e_0242ac110030row14_col14\" class=\"data row14 col14\" >685</td> \n",
       "        <td id=\"T_c0334614_576d_11eb_8e3e_0242ac110030row14_col15\" class=\"data row14 col15\" >58</td> \n",
       "        <td id=\"T_c0334614_576d_11eb_8e3e_0242ac110030row14_col16\" class=\"data row14 col16\" >65</td> \n",
       "        <td id=\"T_c0334614_576d_11eb_8e3e_0242ac110030row14_col17\" class=\"data row14 col17\" >59</td> \n",
       "        <td id=\"T_c0334614_576d_11eb_8e3e_0242ac110030row14_col18\" class=\"data row14 col18\" >98</td> \n",
       "        <td id=\"T_c0334614_576d_11eb_8e3e_0242ac110030row14_col19\" class=\"data row14 col19\" >259</td> \n",
       "    </tr>    <tr> \n",
       "        <th id=\"T_c0334614_576d_11eb_8e3e_0242ac110030level0_row15\" class=\"row_heading level0 row15\" >keras</th> \n",
       "        <td id=\"T_c0334614_576d_11eb_8e3e_0242ac110030row15_col0\" class=\"data row15 col0\" >17</td> \n",
       "        <td id=\"T_c0334614_576d_11eb_8e3e_0242ac110030row15_col1\" class=\"data row15 col1\" >3</td> \n",
       "        <td id=\"T_c0334614_576d_11eb_8e3e_0242ac110030row15_col2\" class=\"data row15 col2\" >0</td> \n",
       "        <td id=\"T_c0334614_576d_11eb_8e3e_0242ac110030row15_col3\" class=\"data row15 col3\" >11</td> \n",
       "        <td id=\"T_c0334614_576d_11eb_8e3e_0242ac110030row15_col4\" class=\"data row15 col4\" >10</td> \n",
       "        <td id=\"T_c0334614_576d_11eb_8e3e_0242ac110030row15_col5\" class=\"data row15 col5\" >13</td> \n",
       "        <td id=\"T_c0334614_576d_11eb_8e3e_0242ac110030row15_col6\" class=\"data row15 col6\" >31</td> \n",
       "        <td id=\"T_c0334614_576d_11eb_8e3e_0242ac110030row15_col7\" class=\"data row15 col7\" >3</td> \n",
       "        <td id=\"T_c0334614_576d_11eb_8e3e_0242ac110030row15_col8\" class=\"data row15 col8\" >133</td> \n",
       "        <td id=\"T_c0334614_576d_11eb_8e3e_0242ac110030row15_col9\" class=\"data row15 col9\" >51</td> \n",
       "        <td id=\"T_c0334614_576d_11eb_8e3e_0242ac110030row15_col10\" class=\"data row15 col10\" >116</td> \n",
       "        <td id=\"T_c0334614_576d_11eb_8e3e_0242ac110030row15_col11\" class=\"data row15 col11\" >23</td> \n",
       "        <td id=\"T_c0334614_576d_11eb_8e3e_0242ac110030row15_col12\" class=\"data row15 col12\" >34</td> \n",
       "        <td id=\"T_c0334614_576d_11eb_8e3e_0242ac110030row15_col13\" class=\"data row15 col13\" >256</td> \n",
       "        <td id=\"T_c0334614_576d_11eb_8e3e_0242ac110030row15_col14\" class=\"data row15 col14\" >58</td> \n",
       "        <td id=\"T_c0334614_576d_11eb_8e3e_0242ac110030row15_col15\" class=\"data row15 col15\" >935</td> \n",
       "        <td id=\"T_c0334614_576d_11eb_8e3e_0242ac110030row15_col16\" class=\"data row15 col16\" >235</td> \n",
       "        <td id=\"T_c0334614_576d_11eb_8e3e_0242ac110030row15_col17\" class=\"data row15 col17\" >247</td> \n",
       "        <td id=\"T_c0334614_576d_11eb_8e3e_0242ac110030row15_col18\" class=\"data row15 col18\" >280</td> \n",
       "        <td id=\"T_c0334614_576d_11eb_8e3e_0242ac110030row15_col19\" class=\"data row15 col19\" >195</td> \n",
       "    </tr>    <tr> \n",
       "        <th id=\"T_c0334614_576d_11eb_8e3e_0242ac110030level0_row16\" class=\"row_heading level0 row16\" >neural-network</th> \n",
       "        <td id=\"T_c0334614_576d_11eb_8e3e_0242ac110030row16_col0\" class=\"data row16 col0\" >10</td> \n",
       "        <td id=\"T_c0334614_576d_11eb_8e3e_0242ac110030row16_col1\" class=\"data row16 col1\" >11</td> \n",
       "        <td id=\"T_c0334614_576d_11eb_8e3e_0242ac110030row16_col2\" class=\"data row16 col2\" >8</td> \n",
       "        <td id=\"T_c0334614_576d_11eb_8e3e_0242ac110030row16_col3\" class=\"data row16 col3\" >13</td> \n",
       "        <td id=\"T_c0334614_576d_11eb_8e3e_0242ac110030row16_col4\" class=\"data row16 col4\" >9</td> \n",
       "        <td id=\"T_c0334614_576d_11eb_8e3e_0242ac110030row16_col5\" class=\"data row16 col5\" >20</td> \n",
       "        <td id=\"T_c0334614_576d_11eb_8e3e_0242ac110030row16_col6\" class=\"data row16 col6\" >42</td> \n",
       "        <td id=\"T_c0334614_576d_11eb_8e3e_0242ac110030row16_col7\" class=\"data row16 col7\" >1</td> \n",
       "        <td id=\"T_c0334614_576d_11eb_8e3e_0242ac110030row16_col8\" class=\"data row16 col8\" >69</td> \n",
       "        <td id=\"T_c0334614_576d_11eb_8e3e_0242ac110030row16_col9\" class=\"data row16 col9\" >33</td> \n",
       "        <td id=\"T_c0334614_576d_11eb_8e3e_0242ac110030row16_col10\" class=\"data row16 col10\" >118</td> \n",
       "        <td id=\"T_c0334614_576d_11eb_8e3e_0242ac110030row16_col11\" class=\"data row16 col11\" >24</td> \n",
       "        <td id=\"T_c0334614_576d_11eb_8e3e_0242ac110030row16_col12\" class=\"data row16 col12\" >24</td> \n",
       "        <td id=\"T_c0334614_576d_11eb_8e3e_0242ac110030row16_col13\" class=\"data row16 col13\" >108</td> \n",
       "        <td id=\"T_c0334614_576d_11eb_8e3e_0242ac110030row16_col14\" class=\"data row16 col14\" >65</td> \n",
       "        <td id=\"T_c0334614_576d_11eb_8e3e_0242ac110030row16_col15\" class=\"data row16 col15\" >235</td> \n",
       "        <td id=\"T_c0334614_576d_11eb_8e3e_0242ac110030row16_col16\" class=\"data row16 col16\" >1055</td> \n",
       "        <td id=\"T_c0334614_576d_11eb_8e3e_0242ac110030row16_col17\" class=\"data row16 col17\" >305</td> \n",
       "        <td id=\"T_c0334614_576d_11eb_8e3e_0242ac110030row16_col18\" class=\"data row16 col18\" >137</td> \n",
       "        <td id=\"T_c0334614_576d_11eb_8e3e_0242ac110030row16_col19\" class=\"data row16 col19\" >366</td> \n",
       "    </tr>    <tr> \n",
       "        <th id=\"T_c0334614_576d_11eb_8e3e_0242ac110030level0_row17\" class=\"row_heading level0 row17\" >deep-learning</th> \n",
       "        <td id=\"T_c0334614_576d_11eb_8e3e_0242ac110030row17_col0\" class=\"data row17 col0\" >19</td> \n",
       "        <td id=\"T_c0334614_576d_11eb_8e3e_0242ac110030row17_col1\" class=\"data row17 col1\" >12</td> \n",
       "        <td id=\"T_c0334614_576d_11eb_8e3e_0242ac110030row17_col2\" class=\"data row17 col2\" >2</td> \n",
       "        <td id=\"T_c0334614_576d_11eb_8e3e_0242ac110030row17_col3\" class=\"data row17 col3\" >32</td> \n",
       "        <td id=\"T_c0334614_576d_11eb_8e3e_0242ac110030row17_col4\" class=\"data row17 col4\" >5</td> \n",
       "        <td id=\"T_c0334614_576d_11eb_8e3e_0242ac110030row17_col5\" class=\"data row17 col5\" >32</td> \n",
       "        <td id=\"T_c0334614_576d_11eb_8e3e_0242ac110030row17_col6\" class=\"data row17 col6\" >21</td> \n",
       "        <td id=\"T_c0334614_576d_11eb_8e3e_0242ac110030row17_col7\" class=\"data row17 col7\" >1</td> \n",
       "        <td id=\"T_c0334614_576d_11eb_8e3e_0242ac110030row17_col8\" class=\"data row17 col8\" >103</td> \n",
       "        <td id=\"T_c0334614_576d_11eb_8e3e_0242ac110030row17_col9\" class=\"data row17 col9\" >44</td> \n",
       "        <td id=\"T_c0334614_576d_11eb_8e3e_0242ac110030row17_col10\" class=\"data row17 col10\" >160</td> \n",
       "        <td id=\"T_c0334614_576d_11eb_8e3e_0242ac110030row17_col11\" class=\"data row17 col11\" >72</td> \n",
       "        <td id=\"T_c0334614_576d_11eb_8e3e_0242ac110030row17_col12\" class=\"data row17 col12\" >16</td> \n",
       "        <td id=\"T_c0334614_576d_11eb_8e3e_0242ac110030row17_col13\" class=\"data row17 col13\" >136</td> \n",
       "        <td id=\"T_c0334614_576d_11eb_8e3e_0242ac110030row17_col14\" class=\"data row17 col14\" >59</td> \n",
       "        <td id=\"T_c0334614_576d_11eb_8e3e_0242ac110030row17_col15\" class=\"data row17 col15\" >247</td> \n",
       "        <td id=\"T_c0334614_576d_11eb_8e3e_0242ac110030row17_col16\" class=\"data row17 col16\" >305</td> \n",
       "        <td id=\"T_c0334614_576d_11eb_8e3e_0242ac110030row17_col17\" class=\"data row17 col17\" >1220</td> \n",
       "        <td id=\"T_c0334614_576d_11eb_8e3e_0242ac110030row17_col18\" class=\"data row17 col18\" >160</td> \n",
       "        <td id=\"T_c0334614_576d_11eb_8e3e_0242ac110030row17_col19\" class=\"data row17 col19\" >429</td> \n",
       "    </tr>    <tr> \n",
       "        <th id=\"T_c0334614_576d_11eb_8e3e_0242ac110030level0_row18\" class=\"row_heading level0 row18\" >python</th> \n",
       "        <td id=\"T_c0334614_576d_11eb_8e3e_0242ac110030row18_col0\" class=\"data row18 col0\" >37</td> \n",
       "        <td id=\"T_c0334614_576d_11eb_8e3e_0242ac110030row18_col1\" class=\"data row18 col1\" >35</td> \n",
       "        <td id=\"T_c0334614_576d_11eb_8e3e_0242ac110030row18_col2\" class=\"data row18 col2\" >45</td> \n",
       "        <td id=\"T_c0334614_576d_11eb_8e3e_0242ac110030row18_col3\" class=\"data row18 col3\" >35</td> \n",
       "        <td id=\"T_c0334614_576d_11eb_8e3e_0242ac110030row18_col4\" class=\"data row18 col4\" >24</td> \n",
       "        <td id=\"T_c0334614_576d_11eb_8e3e_0242ac110030row18_col5\" class=\"data row18 col5\" >53</td> \n",
       "        <td id=\"T_c0334614_576d_11eb_8e3e_0242ac110030row18_col6\" class=\"data row18 col6\" >59</td> \n",
       "        <td id=\"T_c0334614_576d_11eb_8e3e_0242ac110030row18_col7\" class=\"data row18 col7\" >244</td> \n",
       "        <td id=\"T_c0334614_576d_11eb_8e3e_0242ac110030row18_col8\" class=\"data row18 col8\" >61</td> \n",
       "        <td id=\"T_c0334614_576d_11eb_8e3e_0242ac110030row18_col9\" class=\"data row18 col9\" >105</td> \n",
       "        <td id=\"T_c0334614_576d_11eb_8e3e_0242ac110030row18_col10\" class=\"data row18 col10\" >62</td> \n",
       "        <td id=\"T_c0334614_576d_11eb_8e3e_0242ac110030row18_col11\" class=\"data row18 col11\" >71</td> \n",
       "        <td id=\"T_c0334614_576d_11eb_8e3e_0242ac110030row18_col12\" class=\"data row18 col12\" >235</td> \n",
       "        <td id=\"T_c0334614_576d_11eb_8e3e_0242ac110030row18_col13\" class=\"data row18 col13\" >167</td> \n",
       "        <td id=\"T_c0334614_576d_11eb_8e3e_0242ac110030row18_col14\" class=\"data row18 col14\" >98</td> \n",
       "        <td id=\"T_c0334614_576d_11eb_8e3e_0242ac110030row18_col15\" class=\"data row18 col15\" >280</td> \n",
       "        <td id=\"T_c0334614_576d_11eb_8e3e_0242ac110030row18_col16\" class=\"data row18 col16\" >137</td> \n",
       "        <td id=\"T_c0334614_576d_11eb_8e3e_0242ac110030row18_col17\" class=\"data row18 col17\" >160</td> \n",
       "        <td id=\"T_c0334614_576d_11eb_8e3e_0242ac110030row18_col18\" class=\"data row18 col18\" >1814</td> \n",
       "        <td id=\"T_c0334614_576d_11eb_8e3e_0242ac110030row18_col19\" class=\"data row18 col19\" >499</td> \n",
       "    </tr>    <tr> \n",
       "        <th id=\"T_c0334614_576d_11eb_8e3e_0242ac110030level0_row19\" class=\"row_heading level0 row19\" >machine-learning</th> \n",
       "        <td id=\"T_c0334614_576d_11eb_8e3e_0242ac110030row19_col0\" class=\"data row19 col0\" >139</td> \n",
       "        <td id=\"T_c0334614_576d_11eb_8e3e_0242ac110030row19_col1\" class=\"data row19 col1\" >89</td> \n",
       "        <td id=\"T_c0334614_576d_11eb_8e3e_0242ac110030row19_col2\" class=\"data row19 col2\" >61</td> \n",
       "        <td id=\"T_c0334614_576d_11eb_8e3e_0242ac110030row19_col3\" class=\"data row19 col3\" >123</td> \n",
       "        <td id=\"T_c0334614_576d_11eb_8e3e_0242ac110030row19_col4\" class=\"data row19 col4\" >63</td> \n",
       "        <td id=\"T_c0334614_576d_11eb_8e3e_0242ac110030row19_col5\" class=\"data row19 col5\" >99</td> \n",
       "        <td id=\"T_c0334614_576d_11eb_8e3e_0242ac110030row19_col6\" class=\"data row19 col6\" >119</td> \n",
       "        <td id=\"T_c0334614_576d_11eb_8e3e_0242ac110030row19_col7\" class=\"data row19 col7\" >62</td> \n",
       "        <td id=\"T_c0334614_576d_11eb_8e3e_0242ac110030row19_col8\" class=\"data row19 col8\" >71</td> \n",
       "        <td id=\"T_c0334614_576d_11eb_8e3e_0242ac110030row19_col9\" class=\"data row19 col9\" >131</td> \n",
       "        <td id=\"T_c0334614_576d_11eb_8e3e_0242ac110030row19_col10\" class=\"data row19 col10\" >124</td> \n",
       "        <td id=\"T_c0334614_576d_11eb_8e3e_0242ac110030row19_col11\" class=\"data row19 col11\" >113</td> \n",
       "        <td id=\"T_c0334614_576d_11eb_8e3e_0242ac110030row19_col12\" class=\"data row19 col12\" >188</td> \n",
       "        <td id=\"T_c0334614_576d_11eb_8e3e_0242ac110030row19_col13\" class=\"data row19 col13\" >106</td> \n",
       "        <td id=\"T_c0334614_576d_11eb_8e3e_0242ac110030row19_col14\" class=\"data row19 col14\" >259</td> \n",
       "        <td id=\"T_c0334614_576d_11eb_8e3e_0242ac110030row19_col15\" class=\"data row19 col15\" >195</td> \n",
       "        <td id=\"T_c0334614_576d_11eb_8e3e_0242ac110030row19_col16\" class=\"data row19 col16\" >366</td> \n",
       "        <td id=\"T_c0334614_576d_11eb_8e3e_0242ac110030row19_col17\" class=\"data row19 col17\" >429</td> \n",
       "        <td id=\"T_c0334614_576d_11eb_8e3e_0242ac110030row19_col18\" class=\"data row19 col18\" >499</td> \n",
       "        <td id=\"T_c0334614_576d_11eb_8e3e_0242ac110030row19_col19\" class=\"data row19 col19\" >2693</td> \n",
       "    </tr></tbody> \n",
       "</table> "
      ],
      "text/plain": [
       "<pandas.io.formats.style.Styler at 0x7fbf38416f60>"
      ]
     },
     "execution_count": 247,
     "metadata": {},
     "output_type": "execute_result"
    }
   ],
   "source": [
    "most_used_relations = pairs.loc[most_used.index, most_used.index]\n",
    "\n",
    "def style_cells(x):\n",
    "    helper_df = pd.DataFrame('', index=x.index, columns=x.columns)\n",
    "    helper_df.loc[\"time-series\", \"r\"] = \"background-color: green\"\n",
    "    helper_df.loc[\"r\", \"time-series\"] = \"background-color: green\"\n",
    "    for k in range(helper_df.shape[0]):\n",
    "        helper_df.iloc[k,k] = \"color: blue\"\n",
    "    \n",
    "    return helper_df\n",
    "\n",
    "most_used_relations.style.apply(style_cells, axis=None)"
   ]
  },
  {
   "cell_type": "markdown",
   "metadata": {},
   "source": []
  }
 ],
 "metadata": {
  "kernelspec": {
   "display_name": "Python 3",
   "language": "python",
   "name": "python3"
  },
  "language_info": {
   "codemirror_mode": {
    "name": "ipython",
    "version": 3
   },
   "file_extension": ".py",
   "mimetype": "text/x-python",
   "name": "python",
   "nbconvert_exporter": "python",
   "pygments_lexer": "ipython3",
   "version": "3.4.3"
  }
 },
 "nbformat": 4,
 "nbformat_minor": 2
}
